{
 "cells": [
  {
   "cell_type": "markdown",
   "id": "7375b9d4-32b2-46b8-9477-e87e4e8ffe73",
   "metadata": {},
   "source": [
    "***BDIA2***<br>\n",
    "***Machine Learning 1***<br>\n",
    "***Lab : 2***<br>\n",
    "***Exercice: 3***<br>\n",
    "***Dataset: Credit Risk prediction***<br>\n",
    "----------------------------------------------------"
   ]
  },
  {
   "cell_type": "code",
   "execution_count": 3,
   "id": "768859c8",
   "metadata": {
    "tags": []
   },
   "outputs": [
    {
     "data": {
      "text/html": [
       "<div>\n",
       "<style scoped>\n",
       "    .dataframe tbody tr th:only-of-type {\n",
       "        vertical-align: middle;\n",
       "    }\n",
       "\n",
       "    .dataframe tbody tr th {\n",
       "        vertical-align: top;\n",
       "    }\n",
       "\n",
       "    .dataframe thead th {\n",
       "        text-align: right;\n",
       "    }\n",
       "</style>\n",
       "<table border=\"1\" class=\"dataframe\">\n",
       "  <thead>\n",
       "    <tr style=\"text-align: right;\">\n",
       "      <th></th>\n",
       "      <th>X1_sectoreconómico</th>\n",
       "      <th>X2_entidadotorgante</th>\n",
       "      <th>X3_MontoCoberturado</th>\n",
       "      <th>X4_departamento</th>\n",
       "      <th>Y_nivelderiesgo</th>\n",
       "    </tr>\n",
       "  </thead>\n",
       "  <tbody>\n",
       "    <tr>\n",
       "      <th>0</th>\n",
       "      <td>0.461538</td>\n",
       "      <td>0.111111</td>\n",
       "      <td>0.053854</td>\n",
       "      <td>0.608696</td>\n",
       "      <td>1.0</td>\n",
       "    </tr>\n",
       "    <tr>\n",
       "      <th>1</th>\n",
       "      <td>0.153846</td>\n",
       "      <td>0.000000</td>\n",
       "      <td>0.011885</td>\n",
       "      <td>0.608696</td>\n",
       "      <td>1.0</td>\n",
       "    </tr>\n",
       "    <tr>\n",
       "      <th>2</th>\n",
       "      <td>0.692308</td>\n",
       "      <td>0.000000</td>\n",
       "      <td>0.011604</td>\n",
       "      <td>0.913043</td>\n",
       "      <td>1.0</td>\n",
       "    </tr>\n",
       "    <tr>\n",
       "      <th>3</th>\n",
       "      <td>0.538462</td>\n",
       "      <td>0.000000</td>\n",
       "      <td>0.010108</td>\n",
       "      <td>0.608696</td>\n",
       "      <td>1.0</td>\n",
       "    </tr>\n",
       "    <tr>\n",
       "      <th>4</th>\n",
       "      <td>0.538462</td>\n",
       "      <td>0.000000</td>\n",
       "      <td>0.015905</td>\n",
       "      <td>0.608696</td>\n",
       "      <td>1.0</td>\n",
       "    </tr>\n",
       "  </tbody>\n",
       "</table>\n",
       "</div>"
      ],
      "text/plain": [
       "   X1_sectoreconómico  X2_entidadotorgante  X3_MontoCoberturado  \\\n",
       "0            0.461538             0.111111             0.053854   \n",
       "1            0.153846             0.000000             0.011885   \n",
       "2            0.692308             0.000000             0.011604   \n",
       "3            0.538462             0.000000             0.010108   \n",
       "4            0.538462             0.000000             0.015905   \n",
       "\n",
       "   X4_departamento  Y_nivelderiesgo  \n",
       "0         0.608696              1.0  \n",
       "1         0.608696              1.0  \n",
       "2         0.913043              1.0  \n",
       "3         0.608696              1.0  \n",
       "4         0.608696              1.0  "
      ]
     },
     "execution_count": 3,
     "metadata": {},
     "output_type": "execute_result"
    }
   ],
   "source": [
    "# lire data frame\n",
    "train_data = pd.read_excel('train.xlsx')\n",
    "train_data.head()"
   ]
  },
  {
   "cell_type": "code",
   "execution_count": 3,
   "id": "ea96085f",
   "metadata": {},
   "outputs": [
    {
     "data": {
      "text/plain": [
       "(350909, 5)"
      ]
     },
     "execution_count": 3,
     "metadata": {},
     "output_type": "execute_result"
    }
   ],
   "source": [
    "# nbr de ligne et colonne \n",
    "train_data.shape"
   ]
  },
  {
   "cell_type": "code",
   "execution_count": 4,
   "id": "b938856b",
   "metadata": {},
   "outputs": [
    {
     "data": {
      "text/plain": [
       "X1_sectoreconómico     0\n",
       "X2_entidadotorgante    0\n",
       "X3_MontoCoberturado    0\n",
       "X4_departamento        0\n",
       "Y_nivelderiesgo        0\n",
       "dtype: int64"
      ]
     },
     "execution_count": 4,
     "metadata": {},
     "output_type": "execute_result"
    }
   ],
   "source": [
    "# les valeur manquantes\n",
    "train_data.isnull().sum()"
   ]
  },
  {
   "cell_type": "code",
   "execution_count": 4,
   "id": "f904b892",
   "metadata": {},
   "outputs": [
    {
     "data": {
      "text/plain": [
       "((4000, 4), (4000,))"
      ]
     },
     "execution_count": 4,
     "metadata": {},
     "output_type": "execute_result"
    }
   ],
   "source": [
    "# division de data pour les x et y => pour les train\n",
    "x_train = train_data.iloc[:4000,:-1]\n",
    "y_train = train_data.iloc[:4000,-1]\n",
    "x_train.shape,y_train.shape"
   ]
  },
  {
   "cell_type": "code",
   "execution_count": 12,
   "id": "143556bd",
   "metadata": {},
   "outputs": [],
   "source": [
    "correlation_matrix = train_data.corr().round(2)"
   ]
  },
  {
   "cell_type": "code",
   "execution_count": 11,
   "id": "3072eae2",
   "metadata": {},
   "outputs": [
    {
     "data": {
      "text/plain": [
       "<AxesSubplot:>"
      ]
     },
     "execution_count": 11,
     "metadata": {},
     "output_type": "execute_result"
    },
    {
     "data": {
      "image/png": "[encoded data removed]",
      "text/plain": [
       "<Figure size 432x288 with 2 Axes>"
      ]
     },
     "metadata": {
      "needs_background": "light"
     },
     "output_type": "display_data"
    }
   ],
   "source": [
    "sns.heatmap(correlation_matrix, annot=True)"
   ]
  },
  {
   "cell_type": "markdown",
   "id": "7a8986cc-acfd-46c5-ba9b-5eb05968f3c0",
   "metadata": {},
   "source": [
    "#### TEST SET:"
   ]
  },
  {
   "cell_type": "code",
   "execution_count": 5,
   "id": "d5e7464d",
   "metadata": {
    "tags": []
   },
   "outputs": [],
   "source": [
    "# lire data frame de test\n",
    "testdata = pd.read_excel('test.xlsx')\n",
    "# testdata.head()"
   ]
  },
  {
   "cell_type": "code",
   "execution_count": 6,
   "id": "fc2e50bb",
   "metadata": {},
   "outputs": [
    {
     "data": {
      "text/plain": [
       "((1000, 4), (1000,))"
      ]
     },
     "execution_count": 6,
     "metadata": {},
     "output_type": "execute_result"
    }
   ],
   "source": [
    "# division de data pour les x et y => pour les test\n",
    "x_test = testdata.iloc[:1000,:-1]\n",
    "y_test = testdata.iloc[:1000,-1]\n",
    "x_test.shape,y_test.shape"
   ]
  },
  {
   "cell_type": "markdown",
   "id": "f58cac44-2019-4ae2-b9d2-51b111e777e0",
   "metadata": {},
   "source": [
    "<h3 style='text-align:center;'>Multiple Regression"
   ]
  },
  {
   "cell_type": "code",
   "execution_count": 15,
   "id": "eaed0f70",
   "metadata": {},
   "outputs": [],
   "source": [
    "#modéle de régresson linéaire multiple\n",
    "linaire_model= LinearRegression()"
   ]
  },
  {
   "cell_type": "code",
   "execution_count": 16,
   "id": "6ebda91e",
   "metadata": {},
   "outputs": [
    {
     "data": {
      "text/plain": [
       "LinearRegression()"
      ]
     },
     "execution_count": 16,
     "metadata": {},
     "output_type": "execute_result"
    }
   ],
   "source": [
    "linaire_model.fit(x_train,y_train)"
   ]
  },
  {
   "cell_type": "code",
   "execution_count": 22,
   "id": "64a3a85c",
   "metadata": {},
   "outputs": [
    {
     "data": {
      "text/plain": [
       "array([0.61011078, 0.55859541, 0.6004604 , 0.57936303, 0.58690808])"
      ]
     },
     "execution_count": 22,
     "metadata": {},
     "output_type": "execute_result"
    }
   ],
   "source": [
    "# prédiction de train\n",
    "y_train_pred = linaire_model.predict(x_train)\n",
    "y_train_pred[:5]"
   ]
  },
  {
   "cell_type": "code",
   "execution_count": 23,
   "id": "95d95869",
   "metadata": {},
   "outputs": [
    {
     "data": {
      "text/plain": [
       "array([0.57936303, 0.56910167, 0.59318716, 0.57640409, 0.66749257])"
      ]
     },
     "execution_count": 23,
     "metadata": {},
     "output_type": "execute_result"
    }
   ],
   "source": [
    "# prédiction de test\n",
    "y_test_pred = linaire_model.predict(x_test)\n",
    "y_test_pred[:5]"
   ]
  },
  {
   "cell_type": "markdown",
   "id": "a38da636-6d1b-48a1-adaf-d6c9d146f895",
   "metadata": {},
   "source": [
    "### Evaluation du modèle:"
   ]
  },
  {
   "cell_type": "markdown",
   "id": "c48ec4d1-e766-4dee-8e99-cbaa943174d6",
   "metadata": {},
   "source": [
    "<li>sur la partie Train :"
   ]
  },
  {
   "cell_type": "code",
   "execution_count": 51,
   "id": "b940624b",
   "metadata": {},
   "outputs": [
    {
     "name": "stdout",
     "output_type": "stream",
     "text": [
      "Model: Multiple Regression\n",
      "Data set: Train\n",
      "MSE: 0.1278010855966745\n",
      "R2 score: 0.08010859711981155\n"
     ]
    }
   ],
   "source": [
    "# Evaluation de train \n",
    "mul_tr_mse = mean_squared_error(y_train,y_train_pred)\n",
    "mul_tr_r2 = r2_score(y_train, y_train_pred)\n",
    "print(f\"Model: Multiple Regression\\nData set: Train\\nMSE: {mul_tr_mse}\\nR2 score: {mul_tr_r2}\")"
   ]
  },
  {
   "cell_type": "markdown",
   "id": "0d1c342e-8de7-4328-a84e-7175bf5bef29",
   "metadata": {},
   "source": [
    "<li>sur la partie Test :"
   ]
  },
  {
   "cell_type": "code",
   "execution_count": 52,
   "id": "7cdba61e",
   "metadata": {},
   "outputs": [
    {
     "name": "stdout",
     "output_type": "stream",
     "text": [
      "Model: Multiple Regression\n",
      "Data set: Test\n",
      "MSE: 0.12771166041199397\n",
      "R2 score: 0.07973270911684349\n"
     ]
    }
   ],
   "source": [
    " # Evaluation de test\n",
    "mul_ts_mse = mean_squared_error(y_test,y_test_pred)\n",
    "mul_ts_r2 = r2_score(y_test, y_test_pred)\n",
    "print(f\"Model: Multiple Regression\\nData set: Test\\nMSE: {mul_ts_mse}\\nR2 score: {mul_ts_r2}\")"
   ]
  },
  {
   "cell_type": "markdown",
   "id": "63ff7cd0-b209-41ec-8196-298a4186cc50",
   "metadata": {},
   "source": [
    "<h3 style='text-align:center;;'>Polynomial Regression"
   ]
  },
  {
   "cell_type": "markdown",
   "id": "4197f0d4-3597-4bee-84af-f7b731b2fb22",
   "metadata": {},
   "source": [
    "<li><b>Représentation polynomiale des données du Train:"
   ]
  },
  {
   "cell_type": "code",
   "execution_count": 9,
   "id": "6c580f3e-f0d1-431a-8745-779f6e79010c",
   "metadata": {},
   "outputs": [],
   "source": [
    "r2_tr,error_tr = [],[]\n",
    "r2_ts,error_ts = [],[]\n",
    "for i in range(1,10):\n",
    "    poly = PolynomialFeatures(degree=i)\n",
    "    x_tr = poly.fit_transform(x_train)\n",
    "    x_ts = poly.fit_transform(x_test)\n",
    "    lr = LinearRegression()\n",
    "    lr.fit(x_tr,y_train)\n",
    "    pred_tr = lr.predict(x_tr)\n",
    "    r2_tr.append(r2_score(y_train,pred_tr).round(3))\n",
    "    error_tr.append(mean_squared_error(y_train,pred_tr).round(3))\n",
    "    pred_ts = lr.predict(x_ts)\n",
    "    r2_ts.append(r2_score(y_test,pred_ts).round(3))\n",
    "    error_ts.append(mean_squared_error(y_test,pred_ts).round(3))"
   ]
  },
  {
   "cell_type": "code",
   "execution_count": null,
   "id": "0eed36c3-6c70-40d8-9860-a2a689691b60",
   "metadata": {},
   "outputs": [],
   "source": [
    "best_degree = np.argmin()"
   ]
  },
  {
   "cell_type": "code",
   "execution_count": 10,
   "id": "a37aa8b6-8435-4ecc-ac60-d2a8f60588af",
   "metadata": {},
   "outputs": [
    {
     "data": {
      "text/html": [
       "<div>\n",
       "<style scoped>\n",
       "    .dataframe tbody tr th:only-of-type {\n",
       "        vertical-align: middle;\n",
       "    }\n",
       "\n",
       "    .dataframe tbody tr th {\n",
       "        vertical-align: top;\n",
       "    }\n",
       "\n",
       "    .dataframe thead th {\n",
       "        text-align: right;\n",
       "    }\n",
       "</style>\n",
       "<table border=\"1\" class=\"dataframe\">\n",
       "  <thead>\n",
       "    <tr style=\"text-align: right;\">\n",
       "      <th></th>\n",
       "      <th>degree</th>\n",
       "      <th>Train R2</th>\n",
       "      <th>Train MSE</th>\n",
       "      <th>Test R2</th>\n",
       "      <th>Test MSE</th>\n",
       "    </tr>\n",
       "  </thead>\n",
       "  <tbody>\n",
       "    <tr>\n",
       "      <th>0</th>\n",
       "      <td>1</td>\n",
       "      <td>0.158</td>\n",
       "      <td>0.126</td>\n",
       "      <td>1.920000e-01</td>\n",
       "      <td>1.210000e-01</td>\n",
       "    </tr>\n",
       "    <tr>\n",
       "      <th>1</th>\n",
       "      <td>2</td>\n",
       "      <td>0.473</td>\n",
       "      <td>0.079</td>\n",
       "      <td>4.850000e-01</td>\n",
       "      <td>7.700000e-02</td>\n",
       "    </tr>\n",
       "    <tr>\n",
       "      <th>2</th>\n",
       "      <td>3</td>\n",
       "      <td>0.555</td>\n",
       "      <td>0.066</td>\n",
       "      <td>5.930000e-01</td>\n",
       "      <td>6.100000e-02</td>\n",
       "    </tr>\n",
       "    <tr>\n",
       "      <th>3</th>\n",
       "      <td>4</td>\n",
       "      <td>0.614</td>\n",
       "      <td>0.058</td>\n",
       "      <td>6.180000e-01</td>\n",
       "      <td>5.700000e-02</td>\n",
       "    </tr>\n",
       "    <tr>\n",
       "      <th>4</th>\n",
       "      <td>5</td>\n",
       "      <td>0.696</td>\n",
       "      <td>0.045</td>\n",
       "      <td>3.010000e-01</td>\n",
       "      <td>1.050000e-01</td>\n",
       "    </tr>\n",
       "    <tr>\n",
       "      <th>5</th>\n",
       "      <td>6</td>\n",
       "      <td>0.768</td>\n",
       "      <td>0.035</td>\n",
       "      <td>-6.569000e+00</td>\n",
       "      <td>1.135000e+00</td>\n",
       "    </tr>\n",
       "    <tr>\n",
       "      <th>6</th>\n",
       "      <td>7</td>\n",
       "      <td>0.847</td>\n",
       "      <td>0.023</td>\n",
       "      <td>-6.019270e+02</td>\n",
       "      <td>9.044200e+01</td>\n",
       "    </tr>\n",
       "    <tr>\n",
       "      <th>7</th>\n",
       "      <td>8</td>\n",
       "      <td>0.903</td>\n",
       "      <td>0.015</td>\n",
       "      <td>-1.873266e+06</td>\n",
       "      <td>2.809982e+05</td>\n",
       "    </tr>\n",
       "    <tr>\n",
       "      <th>8</th>\n",
       "      <td>9</td>\n",
       "      <td>0.934</td>\n",
       "      <td>0.010</td>\n",
       "      <td>-2.987228e+08</td>\n",
       "      <td>4.480972e+07</td>\n",
       "    </tr>\n",
       "  </tbody>\n",
       "</table>\n",
       "</div>"
      ],
      "text/plain": [
       "   degree  Train R2  Train MSE       Test R2      Test MSE\n",
       "0       1     0.158      0.126  1.920000e-01  1.210000e-01\n",
       "1       2     0.473      0.079  4.850000e-01  7.700000e-02\n",
       "2       3     0.555      0.066  5.930000e-01  6.100000e-02\n",
       "3       4     0.614      0.058  6.180000e-01  5.700000e-02\n",
       "4       5     0.696      0.045  3.010000e-01  1.050000e-01\n",
       "5       6     0.768      0.035 -6.569000e+00  1.135000e+00\n",
       "6       7     0.847      0.023 -6.019270e+02  9.044200e+01\n",
       "7       8     0.903      0.015 -1.873266e+06  2.809982e+05\n",
       "8       9     0.934      0.010 -2.987228e+08  4.480972e+07"
      ]
     },
     "execution_count": 10,
     "metadata": {},
     "output_type": "execute_result"
    }
   ],
   "source": [
    "df = pd.DataFrame({'degree':range(1,10),'Train R2':r2_tr,'Train MSE':error_tr,'Test R2':r2_ts,'Test MSE':error_ts})\n",
    "df.head(10)"
   ]
  },
  {
   "cell_type": "code",
   "execution_count": 7,
   "id": "3ab2b45d-7c01-4f72-87b9-8c0ebd6d203a",
   "metadata": {},
   "outputs": [
    {
     "data": {
      "text/plain": [
       "(4000, 126)"
      ]
     },
     "execution_count": 7,
     "metadata": {},
     "output_type": "execute_result"
    }
   ],
   "source": [
    "# x_poly = x_train\n",
    "\n",
    "train_poly_features= PolynomialFeatures(degree=5)\n",
    "poly_tr_x = train_poly_features.fit_transform(x_train)\n",
    "poly_tr_x.shape"
   ]
  },
  {
   "cell_type": "code",
   "execution_count": 7,
   "id": "6528e531",
   "metadata": {
    "collapsed": true,
    "jupyter": {
     "outputs_hidden": true
    },
    "scrolled": true,
    "tags": []
   },
   "outputs": [
    {
     "data": {
      "text/plain": [
       "array(['1', 'X1_sectoreconómico', 'X2_entidadotorgante',\n",
       "       'X3_MontoCoberturado', 'X4_departamento', 'X1_sectoreconómico^2',\n",
       "       'X1_sectoreconómico X2_entidadotorgante',\n",
       "       'X1_sectoreconómico X3_MontoCoberturado',\n",
       "       'X1_sectoreconómico X4_departamento', 'X2_entidadotorgante^2',\n",
       "       'X2_entidadotorgante X3_MontoCoberturado',\n",
       "       'X2_entidadotorgante X4_departamento', 'X3_MontoCoberturado^2',\n",
       "       'X3_MontoCoberturado X4_departamento', 'X4_departamento^2',\n",
       "       'X1_sectoreconómico^3', 'X1_sectoreconómico^2 X2_entidadotorgante',\n",
       "       'X1_sectoreconómico^2 X3_MontoCoberturado',\n",
       "       'X1_sectoreconómico^2 X4_departamento',\n",
       "       'X1_sectoreconómico X2_entidadotorgante^2',\n",
       "       'X1_sectoreconómico X2_entidadotorgante X3_MontoCoberturado',\n",
       "       'X1_sectoreconómico X2_entidadotorgante X4_departamento',\n",
       "       'X1_sectoreconómico X3_MontoCoberturado^2',\n",
       "       'X1_sectoreconómico X3_MontoCoberturado X4_departamento',\n",
       "       'X1_sectoreconómico X4_departamento^2', 'X2_entidadotorgante^3',\n",
       "       'X2_entidadotorgante^2 X3_MontoCoberturado',\n",
       "       'X2_entidadotorgante^2 X4_departamento',\n",
       "       'X2_entidadotorgante X3_MontoCoberturado^2',\n",
       "       'X2_entidadotorgante X3_MontoCoberturado X4_departamento',\n",
       "       'X2_entidadotorgante X4_departamento^2', 'X3_MontoCoberturado^3',\n",
       "       'X3_MontoCoberturado^2 X4_departamento',\n",
       "       'X3_MontoCoberturado X4_departamento^2', 'X4_departamento^3',\n",
       "       'X1_sectoreconómico^4', 'X1_sectoreconómico^3 X2_entidadotorgante',\n",
       "       'X1_sectoreconómico^3 X3_MontoCoberturado',\n",
       "       'X1_sectoreconómico^3 X4_departamento',\n",
       "       'X1_sectoreconómico^2 X2_entidadotorgante^2',\n",
       "       'X1_sectoreconómico^2 X2_entidadotorgante X3_MontoCoberturado',\n",
       "       'X1_sectoreconómico^2 X2_entidadotorgante X4_departamento',\n",
       "       'X1_sectoreconómico^2 X3_MontoCoberturado^2',\n",
       "       'X1_sectoreconómico^2 X3_MontoCoberturado X4_departamento',\n",
       "       'X1_sectoreconómico^2 X4_departamento^2',\n",
       "       'X1_sectoreconómico X2_entidadotorgante^3',\n",
       "       'X1_sectoreconómico X2_entidadotorgante^2 X3_MontoCoberturado',\n",
       "       'X1_sectoreconómico X2_entidadotorgante^2 X4_departamento',\n",
       "       'X1_sectoreconómico X2_entidadotorgante X3_MontoCoberturado^2',\n",
       "       'X1_sectoreconómico X2_entidadotorgante X3_MontoCoberturado X4_departamento',\n",
       "       'X1_sectoreconómico X2_entidadotorgante X4_departamento^2',\n",
       "       'X1_sectoreconómico X3_MontoCoberturado^3',\n",
       "       'X1_sectoreconómico X3_MontoCoberturado^2 X4_departamento',\n",
       "       'X1_sectoreconómico X3_MontoCoberturado X4_departamento^2',\n",
       "       'X1_sectoreconómico X4_departamento^3', 'X2_entidadotorgante^4',\n",
       "       'X2_entidadotorgante^3 X3_MontoCoberturado',\n",
       "       'X2_entidadotorgante^3 X4_departamento',\n",
       "       'X2_entidadotorgante^2 X3_MontoCoberturado^2',\n",
       "       'X2_entidadotorgante^2 X3_MontoCoberturado X4_departamento',\n",
       "       'X2_entidadotorgante^2 X4_departamento^2',\n",
       "       'X2_entidadotorgante X3_MontoCoberturado^3',\n",
       "       'X2_entidadotorgante X3_MontoCoberturado^2 X4_departamento',\n",
       "       'X2_entidadotorgante X3_MontoCoberturado X4_departamento^2',\n",
       "       'X2_entidadotorgante X4_departamento^3', 'X3_MontoCoberturado^4',\n",
       "       'X3_MontoCoberturado^3 X4_departamento',\n",
       "       'X3_MontoCoberturado^2 X4_departamento^2',\n",
       "       'X3_MontoCoberturado X4_departamento^3', 'X4_departamento^4'],\n",
       "      dtype=object)"
      ]
     },
     "execution_count": 7,
     "metadata": {},
     "output_type": "execute_result"
    }
   ],
   "source": [
    "train_poly_features.get_feature_names_out()"
   ]
  },
  {
   "cell_type": "code",
   "execution_count": 8,
   "id": "6e5699cf-8fbd-45dd-9389-532e13794b71",
   "metadata": {},
   "outputs": [
    {
     "data": {
      "text/plain": [
       "(1000, 126)"
      ]
     },
     "execution_count": 8,
     "metadata": {},
     "output_type": "execute_result"
    }
   ],
   "source": [
    "test_poly_features= PolynomialFeatures(degree=5)\n",
    "poly_ts_x = test_poly_features.fit_transform(x_test)\n",
    "poly_ts_x.shape"
   ]
  },
  {
   "cell_type": "code",
   "execution_count": 59,
   "id": "aa5e0436",
   "metadata": {
    "collapsed": true,
    "jupyter": {
     "outputs_hidden": true
    },
    "tags": []
   },
   "outputs": [
    {
     "data": {
      "text/plain": [
       "array(['1', 'X1_sectoreconómico', 'X2_entidadotorgante',\n",
       "       'X3_MontoCoberturado', 'X4_departamento', 'X1_sectoreconómico^2',\n",
       "       'X1_sectoreconómico X2_entidadotorgante',\n",
       "       'X1_sectoreconómico X3_MontoCoberturado',\n",
       "       'X1_sectoreconómico X4_departamento', 'X2_entidadotorgante^2',\n",
       "       'X2_entidadotorgante X3_MontoCoberturado',\n",
       "       'X2_entidadotorgante X4_departamento', 'X3_MontoCoberturado^2',\n",
       "       'X3_MontoCoberturado X4_departamento', 'X4_departamento^2',\n",
       "       'X1_sectoreconómico^3', 'X1_sectoreconómico^2 X2_entidadotorgante',\n",
       "       'X1_sectoreconómico^2 X3_MontoCoberturado',\n",
       "       'X1_sectoreconómico^2 X4_departamento',\n",
       "       'X1_sectoreconómico X2_entidadotorgante^2',\n",
       "       'X1_sectoreconómico X2_entidadotorgante X3_MontoCoberturado',\n",
       "       'X1_sectoreconómico X2_entidadotorgante X4_departamento',\n",
       "       'X1_sectoreconómico X3_MontoCoberturado^2',\n",
       "       'X1_sectoreconómico X3_MontoCoberturado X4_departamento',\n",
       "       'X1_sectoreconómico X4_departamento^2', 'X2_entidadotorgante^3',\n",
       "       'X2_entidadotorgante^2 X3_MontoCoberturado',\n",
       "       'X2_entidadotorgante^2 X4_departamento',\n",
       "       'X2_entidadotorgante X3_MontoCoberturado^2',\n",
       "       'X2_entidadotorgante X3_MontoCoberturado X4_departamento',\n",
       "       'X2_entidadotorgante X4_departamento^2', 'X3_MontoCoberturado^3',\n",
       "       'X3_MontoCoberturado^2 X4_departamento',\n",
       "       'X3_MontoCoberturado X4_departamento^2', 'X4_departamento^3',\n",
       "       'X1_sectoreconómico^4', 'X1_sectoreconómico^3 X2_entidadotorgante',\n",
       "       'X1_sectoreconómico^3 X3_MontoCoberturado',\n",
       "       'X1_sectoreconómico^3 X4_departamento',\n",
       "       'X1_sectoreconómico^2 X2_entidadotorgante^2',\n",
       "       'X1_sectoreconómico^2 X2_entidadotorgante X3_MontoCoberturado',\n",
       "       'X1_sectoreconómico^2 X2_entidadotorgante X4_departamento',\n",
       "       'X1_sectoreconómico^2 X3_MontoCoberturado^2',\n",
       "       'X1_sectoreconómico^2 X3_MontoCoberturado X4_departamento',\n",
       "       'X1_sectoreconómico^2 X4_departamento^2',\n",
       "       'X1_sectoreconómico X2_entidadotorgante^3',\n",
       "       'X1_sectoreconómico X2_entidadotorgante^2 X3_MontoCoberturado',\n",
       "       'X1_sectoreconómico X2_entidadotorgante^2 X4_departamento',\n",
       "       'X1_sectoreconómico X2_entidadotorgante X3_MontoCoberturado^2',\n",
       "       'X1_sectoreconómico X2_entidadotorgante X3_MontoCoberturado X4_departamento',\n",
       "       'X1_sectoreconómico X2_entidadotorgante X4_departamento^2',\n",
       "       'X1_sectoreconómico X3_MontoCoberturado^3',\n",
       "       'X1_sectoreconómico X3_MontoCoberturado^2 X4_departamento',\n",
       "       'X1_sectoreconómico X3_MontoCoberturado X4_departamento^2',\n",
       "       'X1_sectoreconómico X4_departamento^3', 'X2_entidadotorgante^4',\n",
       "       'X2_entidadotorgante^3 X3_MontoCoberturado',\n",
       "       'X2_entidadotorgante^3 X4_departamento',\n",
       "       'X2_entidadotorgante^2 X3_MontoCoberturado^2',\n",
       "       'X2_entidadotorgante^2 X3_MontoCoberturado X4_departamento',\n",
       "       'X2_entidadotorgante^2 X4_departamento^2',\n",
       "       'X2_entidadotorgante X3_MontoCoberturado^3',\n",
       "       'X2_entidadotorgante X3_MontoCoberturado^2 X4_departamento',\n",
       "       'X2_entidadotorgante X3_MontoCoberturado X4_departamento^2',\n",
       "       'X2_entidadotorgante X4_departamento^3', 'X3_MontoCoberturado^4',\n",
       "       'X3_MontoCoberturado^3 X4_departamento',\n",
       "       'X3_MontoCoberturado^2 X4_departamento^2',\n",
       "       'X3_MontoCoberturado X4_departamento^3', 'X4_departamento^4'],\n",
       "      dtype=object)"
      ]
     },
     "execution_count": 59,
     "metadata": {},
     "output_type": "execute_result"
    }
   ],
   "source": [
    "test_poly_features.get_feature_names_out()"
   ]
  },
  {
   "cell_type": "code",
   "execution_count": 8,
   "id": "379c50e5",
   "metadata": {},
   "outputs": [
    {
     "data": {
      "text/plain": [
       "LinearRegression()"
      ]
     },
     "execution_count": 8,
     "metadata": {},
     "output_type": "execute_result"
    }
   ],
   "source": [
    "poly_model = LinearRegression()\n",
    "poly_model.fit(poly_tr_x, y_train)"
   ]
  },
  {
   "cell_type": "markdown",
   "id": "6769ef79-2f8c-41b5-aa04-4633492806ed",
   "metadata": {},
   "source": [
    "<li><b>Prédiction et évaluation sur la partie Train:"
   ]
  },
  {
   "cell_type": "code",
   "execution_count": 16,
   "id": "bdb76bfc",
   "metadata": {},
   "outputs": [
    {
     "data": {
      "text/plain": [
       "array([1.02984709, 0.89698648, 0.69284487, 0.87286696, 0.9264099 ])"
      ]
     },
     "execution_count": 16,
     "metadata": {},
     "output_type": "execute_result"
    }
   ],
   "source": [
    "# prédiction train\n",
    "poly_tr_pred = poly_model.predict(poly_tr_x)\n",
    "poly_tr_pred[:5]"
   ]
  },
  {
   "cell_type": "code",
   "execution_count": 17,
   "id": "dfe97573",
   "metadata": {},
   "outputs": [
    {
     "name": "stdout",
     "output_type": "stream",
     "text": [
      "Model: Polynomial Regression\n",
      "Data set: Train\n",
      "MSE: 0.045406966901250706\n",
      "R2 score: 0.6960818942465309\n"
     ]
    }
   ],
   "source": [
    "# Evaluation train\n",
    "poly_tr_mse = mean_squared_error(y_train,poly_tr_pred)\n",
    "poly_tr_r2 = r2_score(y_train,poly_tr_pred)\n",
    "print(f\"Model: Polynomial Regression\\nData set: Train\\nMSE: {poly_tr_mse}\\nR2 score: {poly_tr_r2}\")"
   ]
  },
  {
   "cell_type": "markdown",
   "id": "cb234bab-71f9-4180-b56b-789aa64c042a",
   "metadata": {},
   "source": [
    "<li><b>Prédiction et évaluation sur la partie Test:"
   ]
  },
  {
   "cell_type": "code",
   "execution_count": 18,
   "id": "e9c84fce",
   "metadata": {},
   "outputs": [
    {
     "data": {
      "text/plain": [
       "array([0.87286696, 0.95677027, 0.85437714, 1.00325893, 1.27667119])"
      ]
     },
     "execution_count": 18,
     "metadata": {},
     "output_type": "execute_result"
    }
   ],
   "source": [
    "# prédiction test\n",
    "poly_ts_pred = poly_model.predict(poly_ts_x)\n",
    "poly_ts_pred[:5]"
   ]
  },
  {
   "cell_type": "code",
   "execution_count": 19,
   "id": "91d5a599",
   "metadata": {},
   "outputs": [
    {
     "name": "stdout",
     "output_type": "stream",
     "text": [
      "Model: Polynomial Regression\n",
      "Data set: Test\n",
      "MSE: 0.10480525809955957\n",
      "R2 score: 0.30131846346954727\n"
     ]
    }
   ],
   "source": [
    "# Evaluation train\n",
    "poly_ts_mse = mean_squared_error(y_test,poly_ts_pred)\n",
    "poly_ts_r2 = r2_score(y_test,poly_ts_pred)\n",
    "print(f\"Model: Polynomial Regression\\nData set: Test\\nMSE: {poly_ts_mse}\\nR2 score: {poly_ts_r2}\")"
   ]
  },
  {
   "cell_type": "markdown",
   "id": "6c97067e-0f32-46c0-ab85-2f31b33abdaf",
   "metadata": {},
   "source": [
    "<h3 style='text-align:center;'>Ridge Regression"
   ]
  },
  {
   "cell_type": "code",
   "execution_count": 64,
   "id": "f43d4b93",
   "metadata": {},
   "outputs": [
    {
     "data": {
      "text/plain": [
       "Ridge(alpha=10)"
      ]
     },
     "execution_count": 64,
     "metadata": {},
     "output_type": "execute_result"
    }
   ],
   "source": [
    "ridge_model = Ridge(alpha=10)\n",
    "ridge_model.fit(x_train,y_train)"
   ]
  },
  {
   "cell_type": "code",
   "execution_count": 65,
   "id": "6163d22d",
   "metadata": {},
   "outputs": [
    {
     "data": {
      "text/plain": [
       "array([0.57949967, 0.56914454, 0.59332342, 0.57632518, 0.66667848])"
      ]
     },
     "execution_count": 65,
     "metadata": {},
     "output_type": "execute_result"
    }
   ],
   "source": [
    "ridge_ts_pred = ridge_model.predict(x_test)\n",
    "ridge_ts_pred[:5]"
   ]
  },
  {
   "cell_type": "code",
   "execution_count": 67,
   "id": "6ae288b9",
   "metadata": {},
   "outputs": [
    {
     "name": "stdout",
     "output_type": "stream",
     "text": [
      "Model: Ridge Regression\n",
      "Data set: Test\n",
      "MSE: 0.1277142579540242\n",
      "R2 score: 0.07971399169543181\n"
     ]
    }
   ],
   "source": [
    "#Evaluation\n",
    "ridge_mse = mean_squared_error(y_test,ridge_ts_pred)\n",
    "ridge_r2 = r2_score(y_test,ridge_ts_pred)\n",
    "print(f\"Model: Ridge Regression\\nData set: Test\\nMSE: {ridge_mse}\\nR2 score: {ridge_r2}\")"
   ]
  },
  {
   "cell_type": "raw",
   "id": "07d37835",
   "metadata": {},
   "source": [
    "=> on a score trés faible et l'erreure moyenne alors (alg) la Régularisation Ridge (deyalena) pas éfficace pour nos data \n",
    "donc le data trés compliqueés."
   ]
  },
  {
   "cell_type": "markdown",
   "id": "e7133c77-db07-4ef5-91ba-ad4463419465",
   "metadata": {},
   "source": [
    "<h3 style='text-align:center;'>Lasso Regression"
   ]
  },
  {
   "cell_type": "code",
   "execution_count": 68,
   "id": "944ded6e",
   "metadata": {},
   "outputs": [
    {
     "data": {
      "text/plain": [
       "Lasso(alpha=0.1)"
      ]
     },
     "execution_count": 68,
     "metadata": {},
     "output_type": "execute_result"
    }
   ],
   "source": [
    "lasso_model = Lasso(alpha=0.1)\n",
    "lasso_model.fit(x_train,y_train)"
   ]
  },
  {
   "cell_type": "code",
   "execution_count": 70,
   "id": "d74a96fc",
   "metadata": {},
   "outputs": [
    {
     "data": {
      "text/plain": [
       "array([0.50233346, 0.50233346, 0.50233346, 0.50233346, 0.50233346])"
      ]
     },
     "execution_count": 70,
     "metadata": {},
     "output_type": "execute_result"
    }
   ],
   "source": [
    "lasso_ts_pred = lasso_model.predict(x_test)\n",
    "lasso_ts_pred[:5]"
   ]
  },
  {
   "cell_type": "code",
   "execution_count": 73,
   "id": "9b1585b1",
   "metadata": {},
   "outputs": [
    {
     "name": "stdout",
     "output_type": "stream",
     "text": [
      "Model: Lasso Regression\n",
      "Data set: Test\n",
      "MSE: 0.1387768979975501\n",
      "R2 score: -1.405865204917589e-06\n"
     ]
    }
   ],
   "source": [
    "#Evaluation du modèle\n",
    "lasso_mse = mean_squared_error(y_test,lasso_ts_pred)\n",
    "lasso_r2 = r2_score(y_test,lasso_ts_pred)\n",
    "print(f\"Model: Lasso Regression\\nData set: Test\\nMSE: {lasso_mse}\\nR2 score: {lasso_r2}\")"
   ]
  },
  {
   "cell_type": "markdown",
   "id": "7627d45e-e814-445a-b200-af6faac58a15",
   "metadata": {},
   "source": [
    "<h3 style='text-align:center;'>Elastic Net Regression"
   ]
  },
  {
   "cell_type": "code",
   "execution_count": 74,
   "id": "e5320eac",
   "metadata": {},
   "outputs": [
    {
     "data": {
      "text/plain": [
       "ElasticNet(alpha=0.01)"
      ]
     },
     "execution_count": 74,
     "metadata": {},
     "output_type": "execute_result"
    }
   ],
   "source": [
    "elastic_model = ElasticNet(alpha=0.01)\n",
    "elastic_model.fit(x_train,y_train)"
   ]
  },
  {
   "cell_type": "code",
   "execution_count": 75,
   "id": "8e16c725",
   "metadata": {},
   "outputs": [
    {
     "data": {
      "text/plain": [
       "array([0.55905832, 0.55549582, 0.561346  , 0.55429426, 0.55697281])"
      ]
     },
     "execution_count": 75,
     "metadata": {},
     "output_type": "execute_result"
    }
   ],
   "source": [
    "elastic_ts_pred = elastic_model.predict(x_test)\n",
    "elastic_ts_pred[:5]"
   ]
  },
  {
   "cell_type": "code",
   "execution_count": 78,
   "id": "41fda18c",
   "metadata": {},
   "outputs": [
    {
     "name": "stdout",
     "output_type": "stream",
     "text": [
      "Model: Elastic Net Reggression\n",
      "Data set: Test\n",
      "MSE: 0.13481810873042852\n",
      "R2 score: 0.028524918687139467\n"
     ]
    }
   ],
   "source": [
    "# Evaluation du modèle:\n",
    "elastic_mse = mean_squared_error(y_test,elastic_ts_pred)\n",
    "elastic_r2 = r2_score(y_test,elastic_ts_pred)\n",
    "print(f\"Model: Elastic Net Reggression\\nData set: Test\\nMSE: {elastic_mse}\\nR2 score: {elastic_r2}\")"
   ]
  },
  {
   "cell_type": "markdown",
   "id": "c3cca651-6022-4f54-bfbf-52b16580c92b",
   "metadata": {},
   "source": [
    "<h3>Comparison between different models:"
   ]
  },
  {
   "cell_type": "code",
   "execution_count": 20,
   "id": "31c0c754-6bdf-4bcf-b583-9252cfc8f2dd",
   "metadata": {},
   "outputs": [],
   "source": [
    "models = [LinearRegression(),Ridge(alpha=1),Lasso(alpha=1),ElasticNet(alpha=1)]\n",
    "tr_mse, ts_mse = [],[]\n",
    "tr_r2, ts_r2 = [],[]\n",
    "for m in models:\n",
    "    m.fit(poly_tr_x,y_train)\n",
    "    # ----- Train ------\n",
    "    tr_pr = m.predict(poly_tr_x)\n",
    "    tr_mse.append(mean_squared_error(y_train,tr_pr))\n",
    "    tr_r2.append(r2_score(y_train,tr_pr))\n",
    "    # ----- Test ------\n",
    "    ts_pr = m.predict(poly_ts_x)\n",
    "    ts_mse.append(mean_squared_error(y_test,ts_pr))\n",
    "    ts_r2.append(r2_score(y_test,ts_pr))"
   ]
  },
  {
   "cell_type": "code",
   "execution_count": 21,
   "id": "4be7e1ce-5970-4c37-9243-ef658d57a5ea",
   "metadata": {},
   "outputs": [
    {
     "data": {
      "text/html": [
       "<div>\n",
       "<style scoped>\n",
       "    .dataframe tbody tr th:only-of-type {\n",
       "        vertical-align: middle;\n",
       "    }\n",
       "\n",
       "    .dataframe tbody tr th {\n",
       "        vertical-align: top;\n",
       "    }\n",
       "\n",
       "    .dataframe thead th {\n",
       "        text-align: right;\n",
       "    }\n",
       "</style>\n",
       "<table border=\"1\" class=\"dataframe\">\n",
       "  <thead>\n",
       "    <tr style=\"text-align: right;\">\n",
       "      <th></th>\n",
       "      <th>model</th>\n",
       "      <th>Train R2</th>\n",
       "      <th>Train MSE</th>\n",
       "      <th>Test R2</th>\n",
       "      <th>Test MSE</th>\n",
       "    </tr>\n",
       "  </thead>\n",
       "  <tbody>\n",
       "    <tr>\n",
       "      <th>0</th>\n",
       "      <td>LinearRegression()</td>\n",
       "      <td>0.696082</td>\n",
       "      <td>0.045407</td>\n",
       "      <td>0.301318</td>\n",
       "      <td>0.104805</td>\n",
       "    </tr>\n",
       "    <tr>\n",
       "      <th>1</th>\n",
       "      <td>Ridge(alpha=1)</td>\n",
       "      <td>0.508251</td>\n",
       "      <td>0.073470</td>\n",
       "      <td>0.550851</td>\n",
       "      <td>0.067374</td>\n",
       "    </tr>\n",
       "    <tr>\n",
       "      <th>2</th>\n",
       "      <td>Lasso(alpha=1)</td>\n",
       "      <td>0.000000</td>\n",
       "      <td>0.149405</td>\n",
       "      <td>-0.025695</td>\n",
       "      <td>0.153859</td>\n",
       "    </tr>\n",
       "    <tr>\n",
       "      <th>3</th>\n",
       "      <td>ElasticNet(alpha=1)</td>\n",
       "      <td>0.000000</td>\n",
       "      <td>0.149405</td>\n",
       "      <td>-0.025695</td>\n",
       "      <td>0.153859</td>\n",
       "    </tr>\n",
       "  </tbody>\n",
       "</table>\n",
       "</div>"
      ],
      "text/plain": [
       "                 model  Train R2  Train MSE   Test R2  Test MSE\n",
       "0   LinearRegression()  0.696082   0.045407  0.301318  0.104805\n",
       "1       Ridge(alpha=1)  0.508251   0.073470  0.550851  0.067374\n",
       "2       Lasso(alpha=1)  0.000000   0.149405 -0.025695  0.153859\n",
       "3  ElasticNet(alpha=1)  0.000000   0.149405 -0.025695  0.153859"
      ]
     },
     "execution_count": 21,
     "metadata": {},
     "output_type": "execute_result"
    }
   ],
   "source": [
    "mods = pd.DataFrame({'model':models,'Train R2':tr_r2,'Train MSE':tr_mse,'Test R2':ts_r2,'Test MSE':ts_mse})\n",
    "mods.head()"
   ]
  },
  {
   "cell_type": "markdown",
   "id": "a47eb9de",
   "metadata": {},
   "source": [
    "<h3>Optimisation de la performance du modèle de ML:"
   ]
  },
  {
   "cell_type": "code",
   "execution_count": 5,
   "id": "15ad1cc2-5e0e-4919-8ea1-86c5591d0ad7",
   "metadata": {},
   "outputs": [],
   "source": [
    "from sklearn.linear_model import RidgeCV,LassoCV,ElasticNetCV"
   ]
  },
  {
   "cell_type": "code",
   "execution_count": 16,
   "id": "832ba285-9a16-4818-9292-cc82193d51c5",
   "metadata": {
    "collapsed": true,
    "jupyter": {
     "outputs_hidden": true
    },
    "tags": []
   },
   "outputs": [
    {
     "name": "stderr",
     "output_type": "stream",
     "text": [
      "C:\\Program Files\\Python\\Python310\\lib\\site-packages\\sklearn\\linear_model\\_coordinate_descent.py:633: ConvergenceWarning: Objective did not converge. You might want to increase the number of iterations. Duality gap: 0.23230016601235093, tolerance: 0.04684305555555549\n",
      "  model = cd_fast.enet_coordinate_descent_gram(\n",
      "C:\\Program Files\\Python\\Python310\\lib\\site-packages\\sklearn\\linear_model\\_coordinate_descent.py:633: ConvergenceWarning: Objective did not converge. You might want to increase the number of iterations. Duality gap: 0.4870280590348557, tolerance: 0.04684305555555549\n",
      "  model = cd_fast.enet_coordinate_descent_gram(\n",
      "C:\\Program Files\\Python\\Python310\\lib\\site-packages\\sklearn\\linear_model\\_coordinate_descent.py:633: ConvergenceWarning: Objective did not converge. You might want to increase the number of iterations. Duality gap: 0.6702277386785909, tolerance: 0.04684305555555549\n",
      "  model = cd_fast.enet_coordinate_descent_gram(\n",
      "C:\\Program Files\\Python\\Python310\\lib\\site-packages\\sklearn\\linear_model\\_coordinate_descent.py:633: ConvergenceWarning: Objective did not converge. You might want to increase the number of iterations. Duality gap: 0.7909518525708563, tolerance: 0.04684305555555549\n",
      "  model = cd_fast.enet_coordinate_descent_gram(\n",
      "C:\\Program Files\\Python\\Python310\\lib\\site-packages\\sklearn\\linear_model\\_coordinate_descent.py:633: ConvergenceWarning: Objective did not converge. You might want to increase the number of iterations. Duality gap: 0.8623879142591022, tolerance: 0.04684305555555549\n",
      "  model = cd_fast.enet_coordinate_descent_gram(\n",
      "C:\\Program Files\\Python\\Python310\\lib\\site-packages\\sklearn\\linear_model\\_coordinate_descent.py:633: ConvergenceWarning: Objective did not converge. You might want to increase the number of iterations. Duality gap: 0.8941115227339367, tolerance: 0.04684305555555549\n",
      "  model = cd_fast.enet_coordinate_descent_gram(\n",
      "C:\\Program Files\\Python\\Python310\\lib\\site-packages\\sklearn\\linear_model\\_coordinate_descent.py:633: ConvergenceWarning: Objective did not converge. You might want to increase the number of iterations. Duality gap: 0.8973639082522311, tolerance: 0.04684305555555549\n",
      "  model = cd_fast.enet_coordinate_descent_gram(\n",
      "C:\\Program Files\\Python\\Python310\\lib\\site-packages\\sklearn\\linear_model\\_coordinate_descent.py:633: ConvergenceWarning: Objective did not converge. You might want to increase the number of iterations. Duality gap: 0.21894342795781085, tolerance: 0.04684305555555549\n",
      "  model = cd_fast.enet_coordinate_descent_gram(\n",
      "C:\\Program Files\\Python\\Python310\\lib\\site-packages\\sklearn\\linear_model\\_coordinate_descent.py:633: ConvergenceWarning: Objective did not converge. You might want to increase the number of iterations. Duality gap: 1.8304426002387117, tolerance: 0.04684305555555549\n",
      "  model = cd_fast.enet_coordinate_descent_gram(\n",
      "C:\\Program Files\\Python\\Python310\\lib\\site-packages\\sklearn\\linear_model\\_coordinate_descent.py:633: ConvergenceWarning: Objective did not converge. You might want to increase the number of iterations. Duality gap: 3.8665494347275455, tolerance: 0.04684305555555549\n",
      "  model = cd_fast.enet_coordinate_descent_gram(\n",
      "C:\\Program Files\\Python\\Python310\\lib\\site-packages\\sklearn\\linear_model\\_coordinate_descent.py:633: ConvergenceWarning: Objective did not converge. You might want to increase the number of iterations. Duality gap: 5.430015266567011, tolerance: 0.04684305555555549\n",
      "  model = cd_fast.enet_coordinate_descent_gram(\n",
      "C:\\Program Files\\Python\\Python310\\lib\\site-packages\\sklearn\\linear_model\\_coordinate_descent.py:633: ConvergenceWarning: Objective did not converge. You might want to increase the number of iterations. Duality gap: 7.2293862680389225, tolerance: 0.04684305555555549\n",
      "  model = cd_fast.enet_coordinate_descent_gram(\n",
      "C:\\Program Files\\Python\\Python310\\lib\\site-packages\\sklearn\\linear_model\\_coordinate_descent.py:633: ConvergenceWarning: Objective did not converge. You might want to increase the number of iterations. Duality gap: 7.750537266913597, tolerance: 0.04684305555555549\n",
      "  model = cd_fast.enet_coordinate_descent_gram(\n",
      "C:\\Program Files\\Python\\Python310\\lib\\site-packages\\sklearn\\linear_model\\_coordinate_descent.py:633: ConvergenceWarning: Objective did not converge. You might want to increase the number of iterations. Duality gap: 9.296850566987189, tolerance: 0.04684305555555549\n",
      "  model = cd_fast.enet_coordinate_descent_gram(\n",
      "C:\\Program Files\\Python\\Python310\\lib\\site-packages\\sklearn\\linear_model\\_coordinate_descent.py:633: ConvergenceWarning: Objective did not converge. You might want to increase the number of iterations. Duality gap: 10.315032815214693, tolerance: 0.04684305555555549\n",
      "  model = cd_fast.enet_coordinate_descent_gram(\n",
      "C:\\Program Files\\Python\\Python310\\lib\\site-packages\\sklearn\\linear_model\\_coordinate_descent.py:633: ConvergenceWarning: Objective did not converge. You might want to increase the number of iterations. Duality gap: 0.3189371654632964, tolerance: 0.0473858298611112\n",
      "  model = cd_fast.enet_coordinate_descent_gram(\n",
      "C:\\Program Files\\Python\\Python310\\lib\\site-packages\\sklearn\\linear_model\\_coordinate_descent.py:633: ConvergenceWarning: Objective did not converge. You might want to increase the number of iterations. Duality gap: 0.5773377991879158, tolerance: 0.0473858298611112\n",
      "  model = cd_fast.enet_coordinate_descent_gram(\n",
      "C:\\Program Files\\Python\\Python310\\lib\\site-packages\\sklearn\\linear_model\\_coordinate_descent.py:633: ConvergenceWarning: Objective did not converge. You might want to increase the number of iterations. Duality gap: 0.7486250458567838, tolerance: 0.0473858298611112\n",
      "  model = cd_fast.enet_coordinate_descent_gram(\n",
      "C:\\Program Files\\Python\\Python310\\lib\\site-packages\\sklearn\\linear_model\\_coordinate_descent.py:633: ConvergenceWarning: Objective did not converge. You might want to increase the number of iterations. Duality gap: 0.848764770353938, tolerance: 0.0473858298611112\n",
      "  model = cd_fast.enet_coordinate_descent_gram(\n",
      "C:\\Program Files\\Python\\Python310\\lib\\site-packages\\sklearn\\linear_model\\_coordinate_descent.py:633: ConvergenceWarning: Objective did not converge. You might want to increase the number of iterations. Duality gap: 0.8947964006991072, tolerance: 0.0473858298611112\n",
      "  model = cd_fast.enet_coordinate_descent_gram(\n",
      "C:\\Program Files\\Python\\Python310\\lib\\site-packages\\sklearn\\linear_model\\_coordinate_descent.py:633: ConvergenceWarning: Objective did not converge. You might want to increase the number of iterations. Duality gap: 0.9019942379077293, tolerance: 0.0473858298611112\n",
      "  model = cd_fast.enet_coordinate_descent_gram(\n",
      "C:\\Program Files\\Python\\Python310\\lib\\site-packages\\sklearn\\linear_model\\_coordinate_descent.py:633: ConvergenceWarning: Objective did not converge. You might want to increase the number of iterations. Duality gap: 0.8827742104322454, tolerance: 0.0473858298611112\n",
      "  model = cd_fast.enet_coordinate_descent_gram(\n",
      "C:\\Program Files\\Python\\Python310\\lib\\site-packages\\sklearn\\linear_model\\_coordinate_descent.py:633: ConvergenceWarning: Objective did not converge. You might want to increase the number of iterations. Duality gap: 0.08288295179812621, tolerance: 0.0473858298611112\n",
      "  model = cd_fast.enet_coordinate_descent_gram(\n",
      "C:\\Program Files\\Python\\Python310\\lib\\site-packages\\sklearn\\linear_model\\_coordinate_descent.py:633: ConvergenceWarning: Objective did not converge. You might want to increase the number of iterations. Duality gap: 1.0247424894918993, tolerance: 0.0473858298611112\n",
      "  model = cd_fast.enet_coordinate_descent_gram(\n",
      "C:\\Program Files\\Python\\Python310\\lib\\site-packages\\sklearn\\linear_model\\_coordinate_descent.py:633: ConvergenceWarning: Objective did not converge. You might want to increase the number of iterations. Duality gap: 2.673413830765014, tolerance: 0.0473858298611112\n",
      "  model = cd_fast.enet_coordinate_descent_gram(\n",
      "C:\\Program Files\\Python\\Python310\\lib\\site-packages\\sklearn\\linear_model\\_coordinate_descent.py:633: ConvergenceWarning: Objective did not converge. You might want to increase the number of iterations. Duality gap: 4.64131203125126, tolerance: 0.0473858298611112\n",
      "  model = cd_fast.enet_coordinate_descent_gram(\n",
      "C:\\Program Files\\Python\\Python310\\lib\\site-packages\\sklearn\\linear_model\\_coordinate_descent.py:633: ConvergenceWarning: Objective did not converge. You might want to increase the number of iterations. Duality gap: 5.753169205559658, tolerance: 0.0473858298611112\n",
      "  model = cd_fast.enet_coordinate_descent_gram(\n",
      "C:\\Program Files\\Python\\Python310\\lib\\site-packages\\sklearn\\linear_model\\_coordinate_descent.py:633: ConvergenceWarning: Objective did not converge. You might want to increase the number of iterations. Duality gap: 6.902712774468256, tolerance: 0.0473858298611112\n",
      "  model = cd_fast.enet_coordinate_descent_gram(\n",
      "C:\\Program Files\\Python\\Python310\\lib\\site-packages\\sklearn\\linear_model\\_coordinate_descent.py:633: ConvergenceWarning: Objective did not converge. You might want to increase the number of iterations. Duality gap: 8.086181296398081, tolerance: 0.0473858298611112\n",
      "  model = cd_fast.enet_coordinate_descent_gram(\n",
      "C:\\Program Files\\Python\\Python310\\lib\\site-packages\\sklearn\\linear_model\\_coordinate_descent.py:633: ConvergenceWarning: Objective did not converge. You might want to increase the number of iterations. Duality gap: 9.01547065726541, tolerance: 0.0473858298611112\n",
      "  model = cd_fast.enet_coordinate_descent_gram(\n",
      "C:\\Program Files\\Python\\Python310\\lib\\site-packages\\sklearn\\linear_model\\_coordinate_descent.py:633: ConvergenceWarning: Objective did not converge. You might want to increase the number of iterations. Duality gap: 10.045353795532094, tolerance: 0.0473858298611112\n",
      "  model = cd_fast.enet_coordinate_descent_gram(\n",
      "C:\\Program Files\\Python\\Python310\\lib\\site-packages\\sklearn\\linear_model\\_coordinate_descent.py:633: ConvergenceWarning: Objective did not converge. You might want to increase the number of iterations. Duality gap: 0.0979606155620445, tolerance: 0.04805249652777787\n",
      "  model = cd_fast.enet_coordinate_descent_gram(\n",
      "C:\\Program Files\\Python\\Python310\\lib\\site-packages\\sklearn\\linear_model\\_coordinate_descent.py:633: ConvergenceWarning: Objective did not converge. You might want to increase the number of iterations. Duality gap: 0.4078856266608568, tolerance: 0.04805249652777787\n",
      "  model = cd_fast.enet_coordinate_descent_gram(\n",
      "C:\\Program Files\\Python\\Python310\\lib\\site-packages\\sklearn\\linear_model\\_coordinate_descent.py:633: ConvergenceWarning: Objective did not converge. You might want to increase the number of iterations. Duality gap: 0.6211016050040996, tolerance: 0.04805249652777787\n",
      "  model = cd_fast.enet_coordinate_descent_gram(\n",
      "C:\\Program Files\\Python\\Python310\\lib\\site-packages\\sklearn\\linear_model\\_coordinate_descent.py:633: ConvergenceWarning: Objective did not converge. You might want to increase the number of iterations. Duality gap: 0.750779321357669, tolerance: 0.04805249652777787\n",
      "  model = cd_fast.enet_coordinate_descent_gram(\n",
      "C:\\Program Files\\Python\\Python310\\lib\\site-packages\\sklearn\\linear_model\\_coordinate_descent.py:633: ConvergenceWarning: Objective did not converge. You might want to increase the number of iterations. Duality gap: 0.8155961965192944, tolerance: 0.04805249652777787\n",
      "  model = cd_fast.enet_coordinate_descent_gram(\n",
      "C:\\Program Files\\Python\\Python310\\lib\\site-packages\\sklearn\\linear_model\\_coordinate_descent.py:633: ConvergenceWarning: Objective did not converge. You might want to increase the number of iterations. Duality gap: 0.8334902655326459, tolerance: 0.04805249652777787\n",
      "  model = cd_fast.enet_coordinate_descent_gram(\n",
      "C:\\Program Files\\Python\\Python310\\lib\\site-packages\\sklearn\\linear_model\\_coordinate_descent.py:633: ConvergenceWarning: Objective did not converge. You might want to increase the number of iterations. Duality gap: 0.8194887175003203, tolerance: 0.04805249652777787\n",
      "  model = cd_fast.enet_coordinate_descent_gram(\n",
      "C:\\Program Files\\Python\\Python310\\lib\\site-packages\\sklearn\\linear_model\\_coordinate_descent.py:633: ConvergenceWarning: Objective did not converge. You might want to increase the number of iterations. Duality gap: 0.1257923833444181, tolerance: 0.04805249652777787\n",
      "  model = cd_fast.enet_coordinate_descent_gram(\n",
      "C:\\Program Files\\Python\\Python310\\lib\\site-packages\\sklearn\\linear_model\\_coordinate_descent.py:633: ConvergenceWarning: Objective did not converge. You might want to increase the number of iterations. Duality gap: 0.6147324484117576, tolerance: 0.04805249652777787\n",
      "  model = cd_fast.enet_coordinate_descent_gram(\n",
      "C:\\Program Files\\Python\\Python310\\lib\\site-packages\\sklearn\\linear_model\\_coordinate_descent.py:633: ConvergenceWarning: Objective did not converge. You might want to increase the number of iterations. Duality gap: 2.0601597507650524, tolerance: 0.04805249652777787\n",
      "  model = cd_fast.enet_coordinate_descent_gram(\n",
      "C:\\Program Files\\Python\\Python310\\lib\\site-packages\\sklearn\\linear_model\\_coordinate_descent.py:633: ConvergenceWarning: Objective did not converge. You might want to increase the number of iterations. Duality gap: 3.6021831210955213, tolerance: 0.04805249652777787\n",
      "  model = cd_fast.enet_coordinate_descent_gram(\n",
      "C:\\Program Files\\Python\\Python310\\lib\\site-packages\\sklearn\\linear_model\\_coordinate_descent.py:633: ConvergenceWarning: Objective did not converge. You might want to increase the number of iterations. Duality gap: 5.285617236505715, tolerance: 0.04805249652777787\n",
      "  model = cd_fast.enet_coordinate_descent_gram(\n",
      "C:\\Program Files\\Python\\Python310\\lib\\site-packages\\sklearn\\linear_model\\_coordinate_descent.py:633: ConvergenceWarning: Objective did not converge. You might want to increase the number of iterations. Duality gap: 6.55222652121148, tolerance: 0.04805249652777787\n",
      "  model = cd_fast.enet_coordinate_descent_gram(\n",
      "C:\\Program Files\\Python\\Python310\\lib\\site-packages\\sklearn\\linear_model\\_coordinate_descent.py:633: ConvergenceWarning: Objective did not converge. You might want to increase the number of iterations. Duality gap: 7.531226529663911, tolerance: 0.04805249652777787\n",
      "  model = cd_fast.enet_coordinate_descent_gram(\n",
      "C:\\Program Files\\Python\\Python310\\lib\\site-packages\\sklearn\\linear_model\\_coordinate_descent.py:633: ConvergenceWarning: Objective did not converge. You might want to increase the number of iterations. Duality gap: 8.250258217309664, tolerance: 0.04805249652777787\n",
      "  model = cd_fast.enet_coordinate_descent_gram(\n",
      "C:\\Program Files\\Python\\Python310\\lib\\site-packages\\sklearn\\linear_model\\_coordinate_descent.py:633: ConvergenceWarning: Objective did not converge. You might want to increase the number of iterations. Duality gap: 8.923782175660477, tolerance: 0.04805249652777787\n",
      "  model = cd_fast.enet_coordinate_descent_gram(\n",
      "C:\\Program Files\\Python\\Python310\\lib\\site-packages\\sklearn\\linear_model\\_coordinate_descent.py:633: ConvergenceWarning: Objective did not converge. You might want to increase the number of iterations. Duality gap: 9.495286360063574, tolerance: 0.04805249652777787\n",
      "  model = cd_fast.enet_coordinate_descent_gram(\n",
      "C:\\Program Files\\Python\\Python310\\lib\\site-packages\\sklearn\\linear_model\\_coordinate_descent.py:633: ConvergenceWarning: Objective did not converge. You might want to increase the number of iterations. Duality gap: 0.12499937771386271, tolerance: 0.04599902430555566\n",
      "  model = cd_fast.enet_coordinate_descent_gram(\n",
      "C:\\Program Files\\Python\\Python310\\lib\\site-packages\\sklearn\\linear_model\\_coordinate_descent.py:633: ConvergenceWarning: Objective did not converge. You might want to increase the number of iterations. Duality gap: 0.3454502361230425, tolerance: 0.04599902430555566\n",
      "  model = cd_fast.enet_coordinate_descent_gram(\n",
      "C:\\Program Files\\Python\\Python310\\lib\\site-packages\\sklearn\\linear_model\\_coordinate_descent.py:633: ConvergenceWarning: Objective did not converge. You might want to increase the number of iterations. Duality gap: 0.47337177296998334, tolerance: 0.04599902430555566\n",
      "  model = cd_fast.enet_coordinate_descent_gram(\n",
      "C:\\Program Files\\Python\\Python310\\lib\\site-packages\\sklearn\\linear_model\\_coordinate_descent.py:633: ConvergenceWarning: Objective did not converge. You might want to increase the number of iterations. Duality gap: 0.5258374613400179, tolerance: 0.04599902430555566\n",
      "  model = cd_fast.enet_coordinate_descent_gram(\n",
      "C:\\Program Files\\Python\\Python310\\lib\\site-packages\\sklearn\\linear_model\\_coordinate_descent.py:633: ConvergenceWarning: Objective did not converge. You might want to increase the number of iterations. Duality gap: 0.5228772706559255, tolerance: 0.04599902430555566\n",
      "  model = cd_fast.enet_coordinate_descent_gram(\n",
      "C:\\Program Files\\Python\\Python310\\lib\\site-packages\\sklearn\\linear_model\\_coordinate_descent.py:633: ConvergenceWarning: Objective did not converge. You might want to increase the number of iterations. Duality gap: 0.4827535607728066, tolerance: 0.04599902430555566\n",
      "  model = cd_fast.enet_coordinate_descent_gram(\n",
      "C:\\Program Files\\Python\\Python310\\lib\\site-packages\\sklearn\\linear_model\\_coordinate_descent.py:633: ConvergenceWarning: Objective did not converge. You might want to increase the number of iterations. Duality gap: 0.08516576591554781, tolerance: 0.04599902430555566\n",
      "  model = cd_fast.enet_coordinate_descent_gram(\n",
      "C:\\Program Files\\Python\\Python310\\lib\\site-packages\\sklearn\\linear_model\\_coordinate_descent.py:633: ConvergenceWarning: Objective did not converge. You might want to increase the number of iterations. Duality gap: 0.07604568628417496, tolerance: 0.04599902430555566\n",
      "  model = cd_fast.enet_coordinate_descent_gram(\n",
      "C:\\Program Files\\Python\\Python310\\lib\\site-packages\\sklearn\\linear_model\\_coordinate_descent.py:633: ConvergenceWarning: Objective did not converge. You might want to increase the number of iterations. Duality gap: 1.0578242646911633, tolerance: 0.04599902430555566\n",
      "  model = cd_fast.enet_coordinate_descent_gram(\n",
      "C:\\Program Files\\Python\\Python310\\lib\\site-packages\\sklearn\\linear_model\\_coordinate_descent.py:633: ConvergenceWarning: Objective did not converge. You might want to increase the number of iterations. Duality gap: 2.6602661522462654, tolerance: 0.04599902430555566\n",
      "  model = cd_fast.enet_coordinate_descent_gram(\n",
      "C:\\Program Files\\Python\\Python310\\lib\\site-packages\\sklearn\\linear_model\\_coordinate_descent.py:633: ConvergenceWarning: Objective did not converge. You might want to increase the number of iterations. Duality gap: 4.278595063033407, tolerance: 0.04599902430555566\n",
      "  model = cd_fast.enet_coordinate_descent_gram(\n",
      "C:\\Program Files\\Python\\Python310\\lib\\site-packages\\sklearn\\linear_model\\_coordinate_descent.py:633: ConvergenceWarning: Objective did not converge. You might want to increase the number of iterations. Duality gap: 5.745266343544728, tolerance: 0.04599902430555566\n",
      "  model = cd_fast.enet_coordinate_descent_gram(\n",
      "C:\\Program Files\\Python\\Python310\\lib\\site-packages\\sklearn\\linear_model\\_coordinate_descent.py:633: ConvergenceWarning: Objective did not converge. You might want to increase the number of iterations. Duality gap: 7.012954058284038, tolerance: 0.04599902430555566\n",
      "  model = cd_fast.enet_coordinate_descent_gram(\n",
      "C:\\Program Files\\Python\\Python310\\lib\\site-packages\\sklearn\\linear_model\\_coordinate_descent.py:633: ConvergenceWarning: Objective did not converge. You might want to increase the number of iterations. Duality gap: 8.081889400109475, tolerance: 0.04599902430555566\n",
      "  model = cd_fast.enet_coordinate_descent_gram(\n",
      "C:\\Program Files\\Python\\Python310\\lib\\site-packages\\sklearn\\linear_model\\_coordinate_descent.py:633: ConvergenceWarning: Objective did not converge. You might want to increase the number of iterations. Duality gap: 8.951751513777737, tolerance: 0.04599902430555566\n",
      "  model = cd_fast.enet_coordinate_descent_gram(\n",
      "C:\\Program Files\\Python\\Python310\\lib\\site-packages\\sklearn\\linear_model\\_coordinate_descent.py:633: ConvergenceWarning: Objective did not converge. You might want to increase the number of iterations. Duality gap: 9.673276865571125, tolerance: 0.04599902430555566\n",
      "  model = cd_fast.enet_coordinate_descent_gram(\n",
      "C:\\Program Files\\Python\\Python310\\lib\\site-packages\\sklearn\\linear_model\\_coordinate_descent.py:633: ConvergenceWarning: Objective did not converge. You might want to increase the number of iterations. Duality gap: 10.510124179626558, tolerance: 0.04599902430555566\n",
      "  model = cd_fast.enet_coordinate_descent_gram(\n",
      "C:\\Program Files\\Python\\Python310\\lib\\site-packages\\sklearn\\linear_model\\_coordinate_descent.py:633: ConvergenceWarning: Objective did not converge. You might want to increase the number of iterations. Duality gap: 10.692137213789152, tolerance: 0.04599902430555566\n",
      "  model = cd_fast.enet_coordinate_descent_gram(\n",
      "C:\\Program Files\\Python\\Python310\\lib\\site-packages\\sklearn\\linear_model\\_coordinate_descent.py:633: ConvergenceWarning: Objective did not converge. You might want to increase the number of iterations. Duality gap: 10.847771709486466, tolerance: 0.04599902430555566\n",
      "  model = cd_fast.enet_coordinate_descent_gram(\n",
      "C:\\Program Files\\Python\\Python310\\lib\\site-packages\\sklearn\\linear_model\\_coordinate_descent.py:633: ConvergenceWarning: Objective did not converge. You might want to increase the number of iterations. Duality gap: 0.20973483454221764, tolerance: 0.04770260763888896\n",
      "  model = cd_fast.enet_coordinate_descent_gram(\n",
      "C:\\Program Files\\Python\\Python310\\lib\\site-packages\\sklearn\\linear_model\\_coordinate_descent.py:633: ConvergenceWarning: Objective did not converge. You might want to increase the number of iterations. Duality gap: 0.494706498260598, tolerance: 0.04770260763888896\n",
      "  model = cd_fast.enet_coordinate_descent_gram(\n",
      "C:\\Program Files\\Python\\Python310\\lib\\site-packages\\sklearn\\linear_model\\_coordinate_descent.py:633: ConvergenceWarning: Objective did not converge. You might want to increase the number of iterations. Duality gap: 0.6916962342842226, tolerance: 0.04770260763888896\n",
      "  model = cd_fast.enet_coordinate_descent_gram(\n",
      "C:\\Program Files\\Python\\Python310\\lib\\site-packages\\sklearn\\linear_model\\_coordinate_descent.py:633: ConvergenceWarning: Objective did not converge. You might want to increase the number of iterations. Duality gap: 0.814701783339558, tolerance: 0.04770260763888896\n",
      "  model = cd_fast.enet_coordinate_descent_gram(\n",
      "C:\\Program Files\\Python\\Python310\\lib\\site-packages\\sklearn\\linear_model\\_coordinate_descent.py:633: ConvergenceWarning: Objective did not converge. You might want to increase the number of iterations. Duality gap: 0.8790015921058796, tolerance: 0.04770260763888896\n",
      "  model = cd_fast.enet_coordinate_descent_gram(\n",
      "C:\\Program Files\\Python\\Python310\\lib\\site-packages\\sklearn\\linear_model\\_coordinate_descent.py:633: ConvergenceWarning: Objective did not converge. You might want to increase the number of iterations. Duality gap: 0.8999192959021514, tolerance: 0.04770260763888896\n",
      "  model = cd_fast.enet_coordinate_descent_gram(\n",
      "C:\\Program Files\\Python\\Python310\\lib\\site-packages\\sklearn\\linear_model\\_coordinate_descent.py:633: ConvergenceWarning: Objective did not converge. You might want to increase the number of iterations. Duality gap: 0.8905676940890999, tolerance: 0.04770260763888896\n",
      "  model = cd_fast.enet_coordinate_descent_gram(\n",
      "C:\\Program Files\\Python\\Python310\\lib\\site-packages\\sklearn\\linear_model\\_coordinate_descent.py:633: ConvergenceWarning: Objective did not converge. You might want to increase the number of iterations. Duality gap: 0.8612684133105688, tolerance: 0.04770260763888896\n",
      "  model = cd_fast.enet_coordinate_descent_gram(\n",
      "C:\\Program Files\\Python\\Python310\\lib\\site-packages\\sklearn\\linear_model\\_coordinate_descent.py:633: ConvergenceWarning: Objective did not converge. You might want to increase the number of iterations. Duality gap: 0.05235053709245108, tolerance: 0.04770260763888896\n",
      "  model = cd_fast.enet_coordinate_descent_gram(\n",
      "C:\\Program Files\\Python\\Python310\\lib\\site-packages\\sklearn\\linear_model\\_coordinate_descent.py:633: ConvergenceWarning: Objective did not converge. You might want to increase the number of iterations. Duality gap: 0.6332925292183518, tolerance: 0.04770260763888896\n",
      "  model = cd_fast.enet_coordinate_descent_gram(\n",
      "C:\\Program Files\\Python\\Python310\\lib\\site-packages\\sklearn\\linear_model\\_coordinate_descent.py:633: ConvergenceWarning: Objective did not converge. You might want to increase the number of iterations. Duality gap: 1.5167984074369087, tolerance: 0.04770260763888896\n",
      "  model = cd_fast.enet_coordinate_descent_gram(\n",
      "C:\\Program Files\\Python\\Python310\\lib\\site-packages\\sklearn\\linear_model\\_coordinate_descent.py:633: ConvergenceWarning: Objective did not converge. You might want to increase the number of iterations. Duality gap: 3.93276400706867, tolerance: 0.04770260763888896\n",
      "  model = cd_fast.enet_coordinate_descent_gram(\n",
      "C:\\Program Files\\Python\\Python310\\lib\\site-packages\\sklearn\\linear_model\\_coordinate_descent.py:633: ConvergenceWarning: Objective did not converge. You might want to increase the number of iterations. Duality gap: 5.556254675726535, tolerance: 0.04770260763888896\n",
      "  model = cd_fast.enet_coordinate_descent_gram(\n",
      "C:\\Program Files\\Python\\Python310\\lib\\site-packages\\sklearn\\linear_model\\_coordinate_descent.py:633: ConvergenceWarning: Objective did not converge. You might want to increase the number of iterations. Duality gap: 7.272004322861989, tolerance: 0.04770260763888896\n",
      "  model = cd_fast.enet_coordinate_descent_gram(\n",
      "C:\\Program Files\\Python\\Python310\\lib\\site-packages\\sklearn\\linear_model\\_coordinate_descent.py:633: ConvergenceWarning: Objective did not converge. You might want to increase the number of iterations. Duality gap: 8.663869274670077, tolerance: 0.04770260763888896\n",
      "  model = cd_fast.enet_coordinate_descent_gram(\n",
      "C:\\Program Files\\Python\\Python310\\lib\\site-packages\\sklearn\\linear_model\\_coordinate_descent.py:633: ConvergenceWarning: Objective did not converge. You might want to increase the number of iterations. Duality gap: 9.686558455214879, tolerance: 0.04770260763888896\n",
      "  model = cd_fast.enet_coordinate_descent_gram(\n",
      "C:\\Program Files\\Python\\Python310\\lib\\site-packages\\sklearn\\linear_model\\_coordinate_descent.py:633: ConvergenceWarning: Objective did not converge. You might want to increase the number of iterations. Duality gap: 10.510411716680665, tolerance: 0.04770260763888896\n",
      "  model = cd_fast.enet_coordinate_descent_gram(\n",
      "C:\\Program Files\\Python\\Python310\\lib\\site-packages\\sklearn\\linear_model\\_coordinate_descent.py:647: ConvergenceWarning: Objective did not converge. You might want to increase the number of iterations, check the scale of the features or consider increasing regularisation. Duality gap: 4.781e+01, tolerance: 5.976e-02\n",
      "  model = cd_fast.enet_coordinate_descent(\n"
     ]
    },
    {
     "data": {
      "text/plain": [
       "LassoCV(cv=5)"
      ]
     },
     "execution_count": 16,
     "metadata": {},
     "output_type": "execute_result"
    }
   ],
   "source": [
    "lasso_cv = LassoCV(cv=5)\n",
    "lasso_cv.fit(poly_tr_x,y_train)"
   ]
  },
  {
   "cell_type": "code",
   "execution_count": 17,
   "id": "50131308-f2f5-4479-8353-f5ddf31a9d82",
   "metadata": {},
   "outputs": [
    {
     "name": "stdout",
     "output_type": "stream",
     "text": [
      "Optimal alpha:  3.4727832561728355e-05\n"
     ]
    }
   ],
   "source": [
    "print('Optimal alpha: ',lasso_cv.alpha_)\n",
    "# len(lasso_cv.alphas_)"
   ]
  },
  {
   "cell_type": "code",
   "execution_count": 19,
   "id": "7177fd0b-eea4-434c-b0a7-74be44dd0cdc",
   "metadata": {},
   "outputs": [
    {
     "data": {
      "text/plain": [
       "126"
      ]
     },
     "execution_count": 19,
     "metadata": {},
     "output_type": "execute_result"
    }
   ],
   "source": [
    "# print('Coefficients: ',lasso_cv.coef_)\n",
    "len(lasso_cv.coef_)"
   ]
  },
  {
   "cell_type": "code",
   "execution_count": 20,
   "id": "21c86949-9f2e-4da1-9c3d-f6c099873b30",
   "metadata": {},
   "outputs": [
    {
     "data": {
      "text/plain": [
       "array([0.93184096, 0.95396883, 0.94869032, 1.01518491, 1.1030525 ])"
      ]
     },
     "execution_count": 20,
     "metadata": {},
     "output_type": "execute_result"
    }
   ],
   "source": [
    "lcv_ts_pred = lasso_cv.predict(poly_ts_x)\n",
    "lcv_ts_pred[:5]"
   ]
  },
  {
   "cell_type": "code",
   "execution_count": 21,
   "id": "702d6145-77fb-4b1c-b1f7-5665bc3203b6",
   "metadata": {},
   "outputs": [
    {
     "name": "stdout",
     "output_type": "stream",
     "text": [
      "Model: LassoCV Regression\n",
      "Data set: Test\n",
      "MSE: 0.06064451885915264\n",
      "R2 score: 0.5957148869533594\n"
     ]
    }
   ],
   "source": [
    "# Evaluation du modèle:\n",
    "lcv_mse = mean_squared_error(y_test,lcv_ts_pred)\n",
    "lcv_r2 = r2_score(y_test,lcv_ts_pred)\n",
    "print(f\"Model: LassoCV Regression\\nData set: Test\\nMSE: {lcv_mse}\\nR2 score: {lcv_r2}\")"
   ]
  },
  {
   "cell_type": "code",
   "execution_count": 22,
   "id": "0d95c415-ef06-463a-bd93-432f501111db",
   "metadata": {
    "slideshow": {
     "slide_type": "slide"
    },
    "tags": []
   },
   "outputs": [
    {
     "data": {
      "text/plain": [
       "RidgeCV(alphas=array([ 0.1,  1. , 10. ]), cv=5)"
      ]
     },
     "execution_count": 22,
     "metadata": {},
     "output_type": "execute_result"
    }
   ],
   "source": [
    "ridge_cv = RidgeCV(cv=5)\n",
    "ridge_cv.fit(poly_tr_x,y_train)"
   ]
  },
  {
   "cell_type": "code",
   "execution_count": 23,
   "id": "a1b110e5-f81f-4453-b7c8-9223f8f52a71",
   "metadata": {},
   "outputs": [
    {
     "data": {
      "text/plain": [
       "0.1"
      ]
     },
     "execution_count": 23,
     "metadata": {},
     "output_type": "execute_result"
    }
   ],
   "source": [
    "ridge_cv.alpha_"
   ]
  },
  {
   "cell_type": "code",
   "execution_count": 31,
   "id": "144e047a-8dff-47a5-a639-5a3ae0be3ae3",
   "metadata": {},
   "outputs": [
    {
     "data": {
      "text/plain": [
       "array([ 0.1,  1. , 10. ])"
      ]
     },
     "execution_count": 31,
     "metadata": {},
     "output_type": "execute_result"
    }
   ],
   "source": [
    "ridge_cv.alphas"
   ]
  },
  {
   "cell_type": "code",
   "execution_count": 25,
   "id": "de05773a-2e8d-4892-8ff3-c4cc297b4fe3",
   "metadata": {},
   "outputs": [
    {
     "data": {
      "text/plain": [
       "126"
      ]
     },
     "execution_count": 25,
     "metadata": {},
     "output_type": "execute_result"
    }
   ],
   "source": [
    "len(ridge_cv.coef_)"
   ]
  },
  {
   "cell_type": "markdown",
   "id": "4b93f388-4606-4651-94dd-3dde2c6c4999",
   "metadata": {},
   "source": [
    "Prediction on Train data:"
   ]
  },
  {
   "cell_type": "code",
   "execution_count": 26,
   "id": "e7771686-7920-4dbd-8a59-e73049ab41e3",
   "metadata": {},
   "outputs": [
    {
     "data": {
      "text/plain": [
       "array([0.82185466, 0.93024036, 0.86625859, 0.92831123, 0.94408833])"
      ]
     },
     "execution_count": 26,
     "metadata": {},
     "output_type": "execute_result"
    }
   ],
   "source": [
    "rcv_tr_pred = ridge_cv.predict(poly_tr_x)\n",
    "rcv_tr_pred[:5]"
   ]
  },
  {
   "cell_type": "code",
   "execution_count": 27,
   "id": "c5ce5676-9062-4d6a-9f36-8127d6fd1554",
   "metadata": {},
   "outputs": [
    {
     "name": "stdout",
     "output_type": "stream",
     "text": [
      "Model: RidgeCV Regression\n",
      "Data set: Train\n",
      "MSE: 0.06725126351853727\n",
      "R2 score: 0.5498735543703921\n"
     ]
    }
   ],
   "source": [
    "# Evaluation du modèle:\n",
    "rcv_tr_mse = mean_squared_error(y_train,rcv_tr_pred)\n",
    "rcv_tr_r2 = r2_score(y_train,rcv_tr_pred)\n",
    "print(f\"Model: RidgeCV Regression\\nData set: Train\\nMSE: {rcv_tr_mse}\\nR2 score: {rcv_tr_r2}\")"
   ]
  },
  {
   "cell_type": "markdown",
   "id": "74f9ff44-f1bb-4ab7-9cb7-fcaee21eb4fb",
   "metadata": {},
   "source": [
    "Prediction on Test data:"
   ]
  },
  {
   "cell_type": "code",
   "execution_count": 28,
   "id": "69456e94-720c-4163-a609-f4764928a9cf",
   "metadata": {},
   "outputs": [
    {
     "data": {
      "text/plain": [
       "array([0.92831123, 0.94970928, 0.94181734, 1.01244203, 1.0533024 ])"
      ]
     },
     "execution_count": 28,
     "metadata": {},
     "output_type": "execute_result"
    }
   ],
   "source": [
    "rcv_ts_pred = ridge_cv.predict(poly_ts_x)\n",
    "rcv_ts_pred[:5]"
   ]
  },
  {
   "cell_type": "code",
   "execution_count": 29,
   "id": "ae0d648b-eea4-48e7-bb44-84b2a43a8e37",
   "metadata": {},
   "outputs": [
    {
     "name": "stdout",
     "output_type": "stream",
     "text": [
      "Model: RidgeCV Regression\n",
      "Data set: Test\n",
      "MSE: 0.06108846097963734\n",
      "R2 score: 0.5927553583142887\n"
     ]
    }
   ],
   "source": [
    "# Evaluation du modèle:\n",
    "rcv_mse = mean_squared_error(y_test,rcv_ts_pred)\n",
    "rcv_r2 = r2_score(y_test,rcv_ts_pred)\n",
    "print(f\"Model: RidgeCV Regression\\nData set: Test\\nMSE: {rcv_mse}\\nR2 score: {rcv_r2}\")"
   ]
  },
  {
   "cell_type": "code",
   "execution_count": 30,
   "id": "0afbbd65-b387-4c92-8c71-0eab0ab97f4b",
   "metadata": {
    "collapsed": true,
    "jupyter": {
     "outputs_hidden": true
    },
    "tags": []
   },
   "outputs": [
    {
     "name": "stderr",
     "output_type": "stream",
     "text": [
      "C:\\Program Files\\Python\\Python310\\lib\\site-packages\\sklearn\\linear_model\\_coordinate_descent.py:633: ConvergenceWarning: Objective did not converge. You might want to increase the number of iterations. Duality gap: 0.057660335596381174, tolerance: 0.04684305555555549\n",
      "  model = cd_fast.enet_coordinate_descent_gram(\n",
      "C:\\Program Files\\Python\\Python310\\lib\\site-packages\\sklearn\\linear_model\\_coordinate_descent.py:633: ConvergenceWarning: Objective did not converge. You might want to increase the number of iterations. Duality gap: 0.07481588988804333, tolerance: 0.04684305555555549\n",
      "  model = cd_fast.enet_coordinate_descent_gram(\n",
      "C:\\Program Files\\Python\\Python310\\lib\\site-packages\\sklearn\\linear_model\\_coordinate_descent.py:633: ConvergenceWarning: Objective did not converge. You might want to increase the number of iterations. Duality gap: 0.09943072677802434, tolerance: 0.04684305555555549\n",
      "  model = cd_fast.enet_coordinate_descent_gram(\n",
      "C:\\Program Files\\Python\\Python310\\lib\\site-packages\\sklearn\\linear_model\\_coordinate_descent.py:633: ConvergenceWarning: Objective did not converge. You might want to increase the number of iterations. Duality gap: 0.12836194714677163, tolerance: 0.04684305555555549\n",
      "  model = cd_fast.enet_coordinate_descent_gram(\n",
      "C:\\Program Files\\Python\\Python310\\lib\\site-packages\\sklearn\\linear_model\\_coordinate_descent.py:633: ConvergenceWarning: Objective did not converge. You might want to increase the number of iterations. Duality gap: 0.17032727975606576, tolerance: 0.04684305555555549\n",
      "  model = cd_fast.enet_coordinate_descent_gram(\n",
      "C:\\Program Files\\Python\\Python310\\lib\\site-packages\\sklearn\\linear_model\\_coordinate_descent.py:633: ConvergenceWarning: Objective did not converge. You might want to increase the number of iterations. Duality gap: 0.23389586444758947, tolerance: 0.04684305555555549\n",
      "  model = cd_fast.enet_coordinate_descent_gram(\n",
      "C:\\Program Files\\Python\\Python310\\lib\\site-packages\\sklearn\\linear_model\\_coordinate_descent.py:633: ConvergenceWarning: Objective did not converge. You might want to increase the number of iterations. Duality gap: 0.05525222357636039, tolerance: 0.0473858298611112\n",
      "  model = cd_fast.enet_coordinate_descent_gram(\n",
      "C:\\Program Files\\Python\\Python310\\lib\\site-packages\\sklearn\\linear_model\\_coordinate_descent.py:633: ConvergenceWarning: Objective did not converge. You might want to increase the number of iterations. Duality gap: 0.06709112773341985, tolerance: 0.0473858298611112\n",
      "  model = cd_fast.enet_coordinate_descent_gram(\n",
      "C:\\Program Files\\Python\\Python310\\lib\\site-packages\\sklearn\\linear_model\\_coordinate_descent.py:633: ConvergenceWarning: Objective did not converge. You might want to increase the number of iterations. Duality gap: 0.08557163905754805, tolerance: 0.0473858298611112\n",
      "  model = cd_fast.enet_coordinate_descent_gram(\n",
      "C:\\Program Files\\Python\\Python310\\lib\\site-packages\\sklearn\\linear_model\\_coordinate_descent.py:633: ConvergenceWarning: Objective did not converge. You might want to increase the number of iterations. Duality gap: 0.11047690175914227, tolerance: 0.0473858298611112\n",
      "  model = cd_fast.enet_coordinate_descent_gram(\n",
      "C:\\Program Files\\Python\\Python310\\lib\\site-packages\\sklearn\\linear_model\\_coordinate_descent.py:633: ConvergenceWarning: Objective did not converge. You might want to increase the number of iterations. Duality gap: 0.14290817938208988, tolerance: 0.0473858298611112\n",
      "  model = cd_fast.enet_coordinate_descent_gram(\n",
      "C:\\Program Files\\Python\\Python310\\lib\\site-packages\\sklearn\\linear_model\\_coordinate_descent.py:633: ConvergenceWarning: Objective did not converge. You might want to increase the number of iterations. Duality gap: 0.22136551181773712, tolerance: 0.0473858298611112\n",
      "  model = cd_fast.enet_coordinate_descent_gram(\n",
      "C:\\Program Files\\Python\\Python310\\lib\\site-packages\\sklearn\\linear_model\\_coordinate_descent.py:633: ConvergenceWarning: Objective did not converge. You might want to increase the number of iterations. Duality gap: 0.055286744157228895, tolerance: 0.04805249652777787\n",
      "  model = cd_fast.enet_coordinate_descent_gram(\n",
      "C:\\Program Files\\Python\\Python310\\lib\\site-packages\\sklearn\\linear_model\\_coordinate_descent.py:633: ConvergenceWarning: Objective did not converge. You might want to increase the number of iterations. Duality gap: 0.06765219024848079, tolerance: 0.04805249652777787\n",
      "  model = cd_fast.enet_coordinate_descent_gram(\n",
      "C:\\Program Files\\Python\\Python310\\lib\\site-packages\\sklearn\\linear_model\\_coordinate_descent.py:633: ConvergenceWarning: Objective did not converge. You might want to increase the number of iterations. Duality gap: 0.09314137953029444, tolerance: 0.04805249652777787\n",
      "  model = cd_fast.enet_coordinate_descent_gram(\n",
      "C:\\Program Files\\Python\\Python310\\lib\\site-packages\\sklearn\\linear_model\\_coordinate_descent.py:633: ConvergenceWarning: Objective did not converge. You might want to increase the number of iterations. Duality gap: 0.10698650582307323, tolerance: 0.04805249652777787\n",
      "  model = cd_fast.enet_coordinate_descent_gram(\n",
      "C:\\Program Files\\Python\\Python310\\lib\\site-packages\\sklearn\\linear_model\\_coordinate_descent.py:633: ConvergenceWarning: Objective did not converge. You might want to increase the number of iterations. Duality gap: 0.18609207787193327, tolerance: 0.04805249652777787\n",
      "  model = cd_fast.enet_coordinate_descent_gram(\n",
      "C:\\Program Files\\Python\\Python310\\lib\\site-packages\\sklearn\\linear_model\\_coordinate_descent.py:633: ConvergenceWarning: Objective did not converge. You might want to increase the number of iterations. Duality gap: 0.05972629232863369, tolerance: 0.04599902430555566\n",
      "  model = cd_fast.enet_coordinate_descent_gram(\n",
      "C:\\Program Files\\Python\\Python310\\lib\\site-packages\\sklearn\\linear_model\\_coordinate_descent.py:633: ConvergenceWarning: Objective did not converge. You might want to increase the number of iterations. Duality gap: 0.08212343621789842, tolerance: 0.04599902430555566\n",
      "  model = cd_fast.enet_coordinate_descent_gram(\n",
      "C:\\Program Files\\Python\\Python310\\lib\\site-packages\\sklearn\\linear_model\\_coordinate_descent.py:633: ConvergenceWarning: Objective did not converge. You might want to increase the number of iterations. Duality gap: 0.08839846567613563, tolerance: 0.04599902430555566\n",
      "  model = cd_fast.enet_coordinate_descent_gram(\n",
      "C:\\Program Files\\Python\\Python310\\lib\\site-packages\\sklearn\\linear_model\\_coordinate_descent.py:633: ConvergenceWarning: Objective did not converge. You might want to increase the number of iterations. Duality gap: 0.11275180362267179, tolerance: 0.04599902430555566\n",
      "  model = cd_fast.enet_coordinate_descent_gram(\n",
      "C:\\Program Files\\Python\\Python310\\lib\\site-packages\\sklearn\\linear_model\\_coordinate_descent.py:633: ConvergenceWarning: Objective did not converge. You might want to increase the number of iterations. Duality gap: 0.14425195206351304, tolerance: 0.04599902430555566\n",
      "  model = cd_fast.enet_coordinate_descent_gram(\n",
      "C:\\Program Files\\Python\\Python310\\lib\\site-packages\\sklearn\\linear_model\\_coordinate_descent.py:633: ConvergenceWarning: Objective did not converge. You might want to increase the number of iterations. Duality gap: 0.19200007232942085, tolerance: 0.04599902430555566\n",
      "  model = cd_fast.enet_coordinate_descent_gram(\n",
      "C:\\Program Files\\Python\\Python310\\lib\\site-packages\\sklearn\\linear_model\\_coordinate_descent.py:633: ConvergenceWarning: Objective did not converge. You might want to increase the number of iterations. Duality gap: 0.2434190561031926, tolerance: 0.04599902430555566\n",
      "  model = cd_fast.enet_coordinate_descent_gram(\n",
      "C:\\Program Files\\Python\\Python310\\lib\\site-packages\\sklearn\\linear_model\\_coordinate_descent.py:633: ConvergenceWarning: Objective did not converge. You might want to increase the number of iterations. Duality gap: 0.5849834786002646, tolerance: 0.04599902430555566\n",
      "  model = cd_fast.enet_coordinate_descent_gram(\n",
      "C:\\Program Files\\Python\\Python310\\lib\\site-packages\\sklearn\\linear_model\\_coordinate_descent.py:633: ConvergenceWarning: Objective did not converge. You might want to increase the number of iterations. Duality gap: 0.05702427230750118, tolerance: 0.04770260763888896\n",
      "  model = cd_fast.enet_coordinate_descent_gram(\n",
      "C:\\Program Files\\Python\\Python310\\lib\\site-packages\\sklearn\\linear_model\\_coordinate_descent.py:633: ConvergenceWarning: Objective did not converge. You might want to increase the number of iterations. Duality gap: 0.08447006712265193, tolerance: 0.04770260763888896\n",
      "  model = cd_fast.enet_coordinate_descent_gram(\n",
      "C:\\Program Files\\Python\\Python310\\lib\\site-packages\\sklearn\\linear_model\\_coordinate_descent.py:633: ConvergenceWarning: Objective did not converge. You might want to increase the number of iterations. Duality gap: 0.10286286801257916, tolerance: 0.04770260763888896\n",
      "  model = cd_fast.enet_coordinate_descent_gram(\n",
      "C:\\Program Files\\Python\\Python310\\lib\\site-packages\\sklearn\\linear_model\\_coordinate_descent.py:633: ConvergenceWarning: Objective did not converge. You might want to increase the number of iterations. Duality gap: 0.13633268592681702, tolerance: 0.04770260763888896\n",
      "  model = cd_fast.enet_coordinate_descent_gram(\n",
      "C:\\Program Files\\Python\\Python310\\lib\\site-packages\\sklearn\\linear_model\\_coordinate_descent.py:633: ConvergenceWarning: Objective did not converge. You might want to increase the number of iterations. Duality gap: 0.15059878452120756, tolerance: 0.04770260763888896\n",
      "  model = cd_fast.enet_coordinate_descent_gram(\n",
      "C:\\Program Files\\Python\\Python310\\lib\\site-packages\\sklearn\\linear_model\\_coordinate_descent.py:633: ConvergenceWarning: Objective did not converge. You might want to increase the number of iterations. Duality gap: 0.20062781676310237, tolerance: 0.04770260763888896\n",
      "  model = cd_fast.enet_coordinate_descent_gram(\n",
      "C:\\Program Files\\Python\\Python310\\lib\\site-packages\\sklearn\\linear_model\\_coordinate_descent.py:647: ConvergenceWarning: Objective did not converge. You might want to increase the number of iterations, check the scale of the features or consider increasing regularisation. Duality gap: 3.585e+01, tolerance: 5.976e-02\n",
      "  model = cd_fast.enet_coordinate_descent(\n"
     ]
    },
    {
     "data": {
      "text/plain": [
       "ElasticNetCV(cv=5)"
      ]
     },
     "execution_count": 30,
     "metadata": {},
     "output_type": "execute_result"
    }
   ],
   "source": [
    "ecv = ElasticNetCV(cv=5)\n",
    "ecv.fit(poly_tr_x,y_train)"
   ]
  },
  {
   "cell_type": "code",
   "execution_count": 40,
   "id": "c493cde6-067b-419c-ab74-3b90251b5dba",
   "metadata": {},
   "outputs": [
    {
     "data": {
      "text/plain": [
       "6.945566512345671e-05"
      ]
     },
     "execution_count": 40,
     "metadata": {},
     "output_type": "execute_result"
    }
   ],
   "source": [
    "ecv.alpha_"
   ]
  },
  {
   "cell_type": "code",
   "execution_count": 31,
   "id": "5d14e4e3-2429-46af-b27f-6d995ba3c631",
   "metadata": {},
   "outputs": [],
   "source": [
    "ecv_pred = ecv.predict(poly_tr_x)"
   ]
  },
  {
   "cell_type": "code",
   "execution_count": 35,
   "id": "fae7505e-2891-4773-a739-754ffdd1561f",
   "metadata": {},
   "outputs": [
    {
     "name": "stdout",
     "output_type": "stream",
     "text": [
      "Model: ElasticNetCV Regression\n",
      "Data set Train\n",
      "MSE: 0.0693793366265817\n",
      "R2 score: 0.5356299263097839\n"
     ]
    }
   ],
   "source": [
    "# Evaluation du modèle:\n",
    "ecv_tr_mse = mean_squared_error(y_train,ecv_pred)\n",
    "ecv_tr_r2 = r2_score(y_train,ecv_pred)\n",
    "print(f\"Model: ElasticNetCV Regression\\nData set Train\\nMSE: {ecv_tr_mse}\\nR2 score: {ecv_tr_r2}\")"
   ]
  },
  {
   "cell_type": "code",
   "execution_count": 33,
   "id": "ea1a6609-16a5-419a-896a-6ef35e7299e3",
   "metadata": {},
   "outputs": [],
   "source": [
    "ecv_ts_pred = ecv.predict(poly_ts_x)"
   ]
  },
  {
   "cell_type": "code",
   "execution_count": 39,
   "id": "2aec2f6a-1535-40c9-9b5e-691097202b0d",
   "metadata": {},
   "outputs": [
    {
     "name": "stdout",
     "output_type": "stream",
     "text": [
      "Model: ElasticNetCV Regression\n",
      "Data set: Test\n",
      "MSE: 0.06265274957719166\n",
      "R2 score: 0.5823270689256201\n"
     ]
    }
   ],
   "source": [
    "# Evaluation du modèle:\n",
    "ecv_ts_mse = mean_squared_error(y_test,ecv_ts_pred)\n",
    "ecv_ts_r2 = r2_score(y_test,ecv_ts_pred)\n",
    "print(f\"Model: ElasticNetCV Regression\\nData set: Test\\nMSE: {ecv_ts_mse}\\nR2 score: {ecv_ts_r2}\")"
   ]
  },
  {
   "cell_type": "code",
   "execution_count": 14,
   "id": "12e443df-1773-4cbb-ab48-fa76aa14908c",
   "metadata": {},
   "outputs": [],
   "source": [
    "from sklearn.model_selection import validation_curve\n",
    "params = np.arange(20,step=.1)\n",
    "tr_sc,val_sc = validation_curve(Ridge(),X=poly_tr_x,y=y_train,param_name='alpha',param_range=params,cv=5)"
   ]
  },
  {
   "cell_type": "code",
   "execution_count": 11,
   "id": "020bc902-71ee-48b5-a277-eca20f2653a5",
   "metadata": {},
   "outputs": [
    {
     "data": {
      "text/plain": [
       "Text(0, 0.5, 'score')"
      ]
     },
     "execution_count": 11,
     "metadata": {},
     "output_type": "execute_result"
    },
    {
     "data": {
      "image/png": "[encoded data removed]",
      "text/plain": [
       "<Figure size 432x288 with 1 Axes>"
      ]
     },
     "metadata": {
      "needs_background": "light"
     },
     "output_type": "display_data"
    }
   ],
   "source": [
    "import matplotlib.pyplot as plt\n",
    "plt.scatter(params,tr_sc.mean(axis=1),c='red',label='train')\n",
    "# plt.plot(params,val_sc.mean(axis=1),c='green',label='validation')\n",
    "plt.legend()\n",
    "plt.xlabel('alpha');plt.ylabel('score')"
   ]
  },
  {
   "cell_type": "code",
   "execution_count": 28,
   "id": "903f8efc-df59-41e6-8a28-d925f3504496",
   "metadata": {
    "tags": []
   },
   "outputs": [],
   "source": [
    "grid = GridSearchCV(Ridge(),{'alpha':params})"
   ]
  },
  {
   "cell_type": "code",
   "execution_count": 15,
   "id": "d6a95e75-253c-431e-a24d-ebd60654a60b",
   "metadata": {},
   "outputs": [
    {
     "data": {
      "text/plain": [
       "0.2"
      ]
     },
     "execution_count": 15,
     "metadata": {},
     "output_type": "execute_result"
    }
   ],
   "source": [
    "params[tr_sc.argmax()]"
   ]
  },
  {
   "cell_type": "code",
   "execution_count": 29,
   "id": "c91cbce5-be7b-4ba9-b410-cd55c92e810a",
   "metadata": {
    "tags": []
   },
   "outputs": [
    {
     "data": {
      "text/plain": [
       "GridSearchCV(estimator=Ridge(),\n",
       "             param_grid={'alpha': array([ 0. ,  0.1,  0.2,  0.3,  0.4,  0.5,  0.6,  0.7,  0.8,  0.9,  1. ,\n",
       "        1.1,  1.2,  1.3,  1.4,  1.5,  1.6,  1.7,  1.8,  1.9,  2. ,  2.1,\n",
       "        2.2,  2.3,  2.4,  2.5,  2.6,  2.7,  2.8,  2.9,  3. ,  3.1,  3.2,\n",
       "        3.3,  3.4,  3.5,  3.6,  3.7,  3.8,  3.9,  4. ,  4.1,  4.2,  4.3,\n",
       "        4.4,  4.5,  4.6,  4.7,  4.8,  4.9,  5. ,  5.1,  5.2,  5.3,  5.4,\n",
       "        5.5,  5.6,  5.7,  5.8,  5.9,  6. ,  6.1,  6.2,  6.3,  6.4,  6.5,\n",
       "        6.6,  6.7,  6.8,  6.9,  7. ,  7.1,  7.2,  7.3,  7.4,...\n",
       "       12.1, 12.2, 12.3, 12.4, 12.5, 12.6, 12.7, 12.8, 12.9, 13. , 13.1,\n",
       "       13.2, 13.3, 13.4, 13.5, 13.6, 13.7, 13.8, 13.9, 14. , 14.1, 14.2,\n",
       "       14.3, 14.4, 14.5, 14.6, 14.7, 14.8, 14.9, 15. , 15.1, 15.2, 15.3,\n",
       "       15.4, 15.5, 15.6, 15.7, 15.8, 15.9, 16. , 16.1, 16.2, 16.3, 16.4,\n",
       "       16.5, 16.6, 16.7, 16.8, 16.9, 17. , 17.1, 17.2, 17.3, 17.4, 17.5,\n",
       "       17.6, 17.7, 17.8, 17.9, 18. , 18.1, 18.2, 18.3, 18.4, 18.5, 18.6,\n",
       "       18.7, 18.8, 18.9, 19. , 19.1, 19.2, 19.3, 19.4, 19.5, 19.6, 19.7,\n",
       "       19.8, 19.9])})"
      ]
     },
     "execution_count": 29,
     "metadata": {},
     "output_type": "execute_result"
    }
   ],
   "source": [
    "grid.fit(poly_tr_x,y_train)"
   ]
  },
  {
   "cell_type": "code",
   "execution_count": 31,
   "id": "cf39c2c0-38d6-4299-a3af-2eb1efa73dd2",
   "metadata": {},
   "outputs": [
    {
     "data": {
      "text/plain": [
       "0.20742325658001745"
      ]
     },
     "execution_count": 31,
     "metadata": {},
     "output_type": "execute_result"
    }
   ],
   "source": [
    "grid.best_score_"
   ]
  },
  {
   "cell_type": "code",
   "execution_count": null,
   "id": "3565c70c-1f2b-42cf-ae03-44357317391a",
   "metadata": {},
   "outputs": [],
   "source": []
  }
 ],
 "metadata": {
  "kernelspec": {
   "display_name": "Python 3 (ipykernel)",
   "language": "python",
   "name": "python3"
  },
  "language_info": {
   "codemirror_mode": {
    "name": "ipython",
    "version": 3
   },
   "file_extension": ".py",
   "mimetype": "text/x-python",
   "name": "python",
   "nbconvert_exporter": "python",
   "pygments_lexer": "ipython3",
   "version": "3.10.2"
  }
 },
 "nbformat": 4,
 "nbformat_minor": 5
}
